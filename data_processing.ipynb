{
 "cells": [
  {
   "cell_type": "code",
   "execution_count": 1,
   "metadata": {},
   "outputs": [],
   "source": [
    "from datasets import load_dataset\n",
    "import pandas as pd\n",
    "import numpy as np\n",
    "from datasets import Dataset, DatasetDict, load_from_disk\n",
    "import os"
   ]
  },
  {
   "cell_type": "code",
   "execution_count": 2,
   "metadata": {},
   "outputs": [],
   "source": [
    "# set random state for data split\n",
    "random_state = 1234"
   ]
  },
  {
   "cell_type": "markdown",
   "metadata": {},
   "source": [
    "# Datasets"
   ]
  },
  {
   "cell_type": "markdown",
   "metadata": {},
   "source": [
    "### Functions for label cleaning and creating hugging face datasets"
   ]
  },
  {
   "cell_type": "markdown",
   "metadata": {},
   "source": [
    "#### Function to get rid of duplicate texts with different labels and creating multi-label target (also making sure all labels are lists)\n",
    "- NOTE: Need to make sure input df has only 2 columns that are named 'text', 'labels'\n",
    " \n",
    "BEFORE:\n",
    "| text | labels |\n",
    "|----------|----------|\n",
    "| \"This is duplicate text\" | \"love\" |\n",
    "| \"This is duplicate text\" | \"joy\" |\n",
    "| \"example\" | \"fear\"|\n",
    "\n",
    "AFTER:\n",
    "| text | labels |\n",
    "|----------|----------|\n",
    "| \"This is duplicate text\" | [\"love\", \"joy\"] |\n",
    "| \"example\" | [\"fear\"]|\n"
   ]
  },
  {
   "cell_type": "code",
   "execution_count": 3,
   "metadata": {},
   "outputs": [],
   "source": [
    "# combine duplicate texts with different labels so that it's just one unique text with multilabels\n",
    "# combine duplicates and non-duplicates df\n",
    "def to_multilabels_df(df):\n",
    "    # find duplicates\n",
    "    dups = df[df.duplicated(subset=\"text\", keep=False)]\n",
    "    # combine duplicate texts into 1 with multilabels target\n",
    "    combined_labels_df = dups.groupby('text').agg(lambda x: list(set(x))).reset_index() # avoid duplicate label for the same text using set\n",
    "\n",
    "    # get duplicate index as list\n",
    "    dup_ids = dups.index.tolist()\n",
    "    # get non-duplicates\n",
    "    non_dups = df[~df.index.isin(dup_ids)]\n",
    "    # change labels to list for non duplicates\n",
    "    non_dups.loc[:, 'labels'] = non_dups['labels'].apply(lambda x: [x])\n",
    "\n",
    "    # combine duplicates and non-duplicates in to 1 df\n",
    "    combined_df = pd.concat([non_dups, combined_labels_df], ignore_index=True)\n",
    "\n",
    "    return combined_df "
   ]
  },
  {
   "cell_type": "markdown",
   "metadata": {},
   "source": [
    "#### Function to change list of string labels to numerical (id) labels\n",
    "\n",
    "Example sentiment labels/id:\n",
    "| labels | id |\n",
    "|----------|----------|\n",
    "| \"love\" | 0 |\n",
    "| \"joy\" | 1 |\n",
    "| \"sad\" | 2 |\n",
    "| \"fear\" | 3 |\n",
    "\n",
    "BEFORE:\n",
    "| text | labels |\n",
    "|----------|----------|\n",
    "| \"This is duplicate text\" | [\"love\", \"joy\"] |\n",
    "| \"example\" | [\"fear\"]|\n",
    "\n",
    "AFTER:\n",
    "| text | labels |\n",
    "|----------|----------|\n",
    "| \"This is duplicate text\" | [0, 1] |\n",
    "| \"example\" | [3]|"
   ]
  },
  {
   "cell_type": "code",
   "execution_count": 4,
   "metadata": {},
   "outputs": [],
   "source": [
    "# convert list of labels to list of ids\n",
    "def convert2id(label2id, label_list):\n",
    "    return [label2id[label] for label in label_list]"
   ]
  },
  {
   "cell_type": "markdown",
   "metadata": {},
   "source": [
    "#### Function to One-Hot-Encod (OHE) numerical/id labels (based on 28 GoEmotions labels)\n",
    "\n",
    "For this example, assume there's 10 labels\n",
    "\n",
    "Before:\n",
    "| text | labels |\n",
    "|----------|----------|\n",
    "| \"This is duplicate text\" | [0, 1] |\n",
    "| \"example\" | [3]|\n",
    "\n",
    "After:\n",
    "| text | labels |\n",
    "|----------|----------|\n",
    "| \"This is duplicate text\" | [<span style=\"color: green;\">1</span>, <span style=\"color: green;\">1</span>, 0, 0, 0, 0, 0, 0, 0, 0] |\n",
    "| \"example\" | [0, 0, 0, <span style=\"color: green;\">1</span>, 0, 0, 0, 0, 0, 0]|"
   ]
  },
  {
   "cell_type": "code",
   "execution_count": 5,
   "metadata": {},
   "outputs": [],
   "source": [
    "def ohe(labels, num_labels):\n",
    "    ohe_arr = np.zeros(num_labels, dtype=int)\n",
    "    for label in labels:\n",
    "        ohe_arr[label] = 1\n",
    "    \n",
    "    return ohe_arr"
   ]
  },
  {
   "cell_type": "markdown",
   "metadata": {},
   "source": [
    "#### Function to convert pandas df to hugging face df and splitting dataset into train/val/test.\n",
    "  - 4 cases are considered: \n",
    "    - only 1 (training) dataset present (no val/test) --> train split into train/val/test (80/20/20)\n",
    "    - train/test present (no val) --> train split into train/val\n",
    "    - train/valid present (no test) --> val will become test\n",
    "    - all 3 (train/validation/test) present"
   ]
  },
  {
   "cell_type": "code",
   "execution_count": 6,
   "metadata": {},
   "outputs": [],
   "source": [
    "# convert to huggingface dataset into 3 splits (train/val/test)\n",
    "def split_convert2hf_dataset(train, val=None, test=None, random_state=1):\n",
    "    # if train and val passed (no test), val becomes test\n",
    "    if val is not None and test is None:\n",
    "        test = val\n",
    "        val = None\n",
    "\n",
    "    train_hf_df = Dataset.from_pandas(train)\n",
    "\n",
    "    # if there's test dataset\n",
    "    if test is not None:\n",
    "        test_hf_df = Dataset.from_pandas(test)\n",
    "\n",
    "    # if there's no validation set\n",
    "    if val is None:\n",
    "        # 80% train, 20% test + val\n",
    "        train_valtest = train_hf_df.train_test_split(test_size=0.2, seed=random_state)\n",
    "\n",
    "        train_hf_df = train_valtest['train']\n",
    "        val_hf_df = train_valtest[\"test\"]\n",
    "\n",
    "        # if no validation and test sets\n",
    "        if test is None:\n",
    "            # Split the 20% test + val in half val, half test\n",
    "            val_test = train_valtest[\"test\"].train_test_split(test_size=0.5, seed=random_state)\n",
    "\n",
    "            val_hf_df = val_test[\"train\"]\n",
    "            test_hf_df = val_test[\"test\"]\n",
    "    else:\n",
    "        # if val and test datasets provided\n",
    "        val_hf_df = Dataset.from_pandas(val)\n",
    "        test_hf_df = Dataset.from_pandas(test)\n",
    "\n",
    "\n",
    "    return DatasetDict({\n",
    "    'train': train_hf_df,\n",
    "    'validation': val_hf_df,\n",
    "    'test': test_hf_df\n",
    "    })"
   ]
  },
  {
   "cell_type": "markdown",
   "metadata": {},
   "source": [
    "#### Function to save processed Hugging Face dataset to disk"
   ]
  },
  {
   "cell_type": "code",
   "execution_count": 7,
   "metadata": {},
   "outputs": [],
   "source": [
    "# function to save hf dataset on disk\n",
    "def save_hf_dataset(file_path, dataset):\n",
    "    # only save when file doesn't exist\n",
    "    if not os.path.exists(file_path):\n",
    "        dataset.save_to_disk(file_path)\n",
    "    else:\n",
    "        print(\"Dataset already exists.\")"
   ]
  },
  {
   "cell_type": "markdown",
   "metadata": {},
   "source": [
    "## Process datasets"
   ]
  },
  {
   "cell_type": "markdown",
   "metadata": {},
   "source": [
    "### GoEmotions"
   ]
  },
  {
   "cell_type": "code",
   "execution_count": 8,
   "metadata": {},
   "outputs": [
    {
     "data": {
      "text/plain": [
       "DatasetDict({\n",
       "    train: Dataset({\n",
       "        features: ['text', 'labels', 'id'],\n",
       "        num_rows: 43410\n",
       "    })\n",
       "    validation: Dataset({\n",
       "        features: ['text', 'labels', 'id'],\n",
       "        num_rows: 5426\n",
       "    })\n",
       "    test: Dataset({\n",
       "        features: ['text', 'labels', 'id'],\n",
       "        num_rows: 5427\n",
       "    })\n",
       "})"
      ]
     },
     "execution_count": 8,
     "metadata": {},
     "output_type": "execute_result"
    }
   ],
   "source": [
    "goEmotions = load_dataset(\"google-research-datasets/go_emotions\")\n",
    "goEmotions"
   ]
  },
  {
   "cell_type": "code",
   "execution_count": 9,
   "metadata": {},
   "outputs": [
    {
     "data": {
      "text/plain": [
       "{'text': [\"My favourite food is anything I didn't have to cook myself.\",\n",
       "  'Now if he does off himself, everyone will think hes having a laugh screwing with people instead of actually dead',\n",
       "  'WHY THE FUCK IS BAYLESS ISOING',\n",
       "  'To make her feel threatened',\n",
       "  'Dirty Southern Wankers'],\n",
       " 'labels': [[27], [27], [2], [14], [3]],\n",
       " 'id': ['eebbqej', 'ed00q6i', 'eezlygj', 'ed7ypvh', 'ed0bdzj']}"
      ]
     },
     "execution_count": 9,
     "metadata": {},
     "output_type": "execute_result"
    }
   ],
   "source": [
    "goEmotions[\"train\"][:5]"
   ]
  },
  {
   "cell_type": "code",
   "execution_count": 10,
   "metadata": {},
   "outputs": [
    {
     "data": {
      "text/plain": [
       "({0: 'admiration',\n",
       "  1: 'amusement',\n",
       "  2: 'anger',\n",
       "  3: 'annoyance',\n",
       "  4: 'approval',\n",
       "  5: 'caring',\n",
       "  6: 'confusion',\n",
       "  7: 'curiosity',\n",
       "  8: 'desire',\n",
       "  9: 'disappointment',\n",
       "  10: 'disapproval',\n",
       "  11: 'disgust',\n",
       "  12: 'embarrassment',\n",
       "  13: 'excitement',\n",
       "  14: 'fear',\n",
       "  15: 'gratitude',\n",
       "  16: 'grief',\n",
       "  17: 'joy',\n",
       "  18: 'love',\n",
       "  19: 'nervousness',\n",
       "  20: 'optimism',\n",
       "  21: 'pride',\n",
       "  22: 'realization',\n",
       "  23: 'relief',\n",
       "  24: 'remorse',\n",
       "  25: 'sadness',\n",
       "  26: 'surprise',\n",
       "  27: 'neutral'},\n",
       " {'admiration': 0,\n",
       "  'amusement': 1,\n",
       "  'anger': 2,\n",
       "  'annoyance': 3,\n",
       "  'approval': 4,\n",
       "  'caring': 5,\n",
       "  'confusion': 6,\n",
       "  'curiosity': 7,\n",
       "  'desire': 8,\n",
       "  'disappointment': 9,\n",
       "  'disapproval': 10,\n",
       "  'disgust': 11,\n",
       "  'embarrassment': 12,\n",
       "  'excitement': 13,\n",
       "  'fear': 14,\n",
       "  'gratitude': 15,\n",
       "  'grief': 16,\n",
       "  'joy': 17,\n",
       "  'love': 18,\n",
       "  'nervousness': 19,\n",
       "  'optimism': 20,\n",
       "  'pride': 21,\n",
       "  'realization': 22,\n",
       "  'relief': 23,\n",
       "  'remorse': 24,\n",
       "  'sadness': 25,\n",
       "  'surprise': 26,\n",
       "  'neutral': 27})"
      ]
     },
     "execution_count": 10,
     "metadata": {},
     "output_type": "execute_result"
    }
   ],
   "source": [
    "# label2id, id2label\n",
    "go_id2label = {}\n",
    "go_label2id = {}\n",
    "go_labels = goEmotions['train'].features['labels'].feature.names\n",
    "num_go_labels = len(go_labels)\n",
    "\n",
    "for idx, label in enumerate(go_labels):\n",
    "    go_id2label[idx] = label\n",
    "    go_label2id[label] = idx\n",
    "\n",
    "go_id2label, go_label2id"
   ]
  },
  {
   "cell_type": "code",
   "execution_count": 11,
   "metadata": {},
   "outputs": [
    {
     "data": {
      "text/plain": [
       "DatasetDict({\n",
       "    train: Dataset({\n",
       "        features: ['text', 'labels'],\n",
       "        num_rows: 43410\n",
       "    })\n",
       "    validation: Dataset({\n",
       "        features: ['text', 'labels'],\n",
       "        num_rows: 5426\n",
       "    })\n",
       "    test: Dataset({\n",
       "        features: ['text', 'labels'],\n",
       "        num_rows: 5427\n",
       "    })\n",
       "})"
      ]
     },
     "execution_count": 11,
     "metadata": {},
     "output_type": "execute_result"
    }
   ],
   "source": [
    "# drop id column\n",
    "goEmotions = goEmotions.remove_columns(['id'])\n",
    "goEmotions"
   ]
  },
  {
   "cell_type": "code",
   "execution_count": 12,
   "metadata": {},
   "outputs": [
    {
     "data": {
      "text/plain": [
       "28"
      ]
     },
     "execution_count": 12,
     "metadata": {},
     "output_type": "execute_result"
    }
   ],
   "source": [
    "num_go_labels"
   ]
  },
  {
   "cell_type": "code",
   "execution_count": 13,
   "metadata": {},
   "outputs": [
    {
     "data": {
      "text/plain": [
       "[[27], [27], [2], [14], [3], [26], [15], [8, 20], [0], [27]]"
      ]
     },
     "execution_count": 13,
     "metadata": {},
     "output_type": "execute_result"
    }
   ],
   "source": [
    "goEmotions[\"train\"]['labels'][:10]"
   ]
  },
  {
   "cell_type": "code",
   "execution_count": 14,
   "metadata": {},
   "outputs": [
    {
     "data": {
      "text/plain": [
       "DatasetDict({\n",
       "    train: Dataset({\n",
       "        features: ['text', 'labels'],\n",
       "        num_rows: 43410\n",
       "    })\n",
       "    validation: Dataset({\n",
       "        features: ['text', 'labels'],\n",
       "        num_rows: 5426\n",
       "    })\n",
       "    test: Dataset({\n",
       "        features: ['text', 'labels'],\n",
       "        num_rows: 5427\n",
       "    })\n",
       "})"
      ]
     },
     "execution_count": 14,
     "metadata": {},
     "output_type": "execute_result"
    }
   ],
   "source": [
    "goEmotionsOhe = goEmotions.map(lambda x: {\"labels\": ohe(x[\"labels\"], num_go_labels)})\n",
    "goEmotionsOhe"
   ]
  },
  {
   "cell_type": "code",
   "execution_count": 54,
   "metadata": {},
   "outputs": [
    {
     "data": {
      "text/plain": [
       "[8, 20]"
      ]
     },
     "metadata": {},
     "output_type": "display_data"
    },
    {
     "data": {
      "text/plain": [
       "'[0, 0, 0, 0, 0, 0, 0, 0, 1, 0, 0, 0, 0, 0, 0, 0, 0, 0, 0, 0, 1, 0, 0, 0, 0, 0, 0, 0]'"
      ]
     },
     "execution_count": 54,
     "metadata": {},
     "output_type": "execute_result"
    }
   ],
   "source": [
    "display(goEmotions[\"train\"]['labels'][7])\n",
    "str(goEmotionsOhe['train']['labels'][7])"
   ]
  },
  {
   "cell_type": "code",
   "execution_count": null,
   "metadata": {},
   "outputs": [
    {
     "name": "stdout",
     "output_type": "stream",
     "text": [
      "Dataset already exists.\n"
     ]
    }
   ],
   "source": [
    "# save to disk\n",
    "file_name = 'goEmotions_cleaned'\n",
    "file_path = f'./datasets/cleaned_hf/{file_name}'\n",
    "save_hf_dataset(file_path, goEmotionsOhe)"
   ]
  },
  {
   "cell_type": "markdown",
   "metadata": {},
   "source": [
    "### SemEvalWorkshop English"
   ]
  },
  {
   "cell_type": "code",
   "execution_count": 17,
   "metadata": {},
   "outputs": [
    {
     "data": {
      "text/plain": [
       "DatasetDict({\n",
       "    train: Dataset({\n",
       "        features: ['ID', 'Tweet', 'anger', 'anticipation', 'disgust', 'fear', 'joy', 'love', 'optimism', 'pessimism', 'sadness', 'surprise', 'trust'],\n",
       "        num_rows: 6838\n",
       "    })\n",
       "    test: Dataset({\n",
       "        features: ['ID', 'Tweet', 'anger', 'anticipation', 'disgust', 'fear', 'joy', 'love', 'optimism', 'pessimism', 'sadness', 'surprise', 'trust'],\n",
       "        num_rows: 3259\n",
       "    })\n",
       "    validation: Dataset({\n",
       "        features: ['ID', 'Tweet', 'anger', 'anticipation', 'disgust', 'fear', 'joy', 'love', 'optimism', 'pessimism', 'sadness', 'surprise', 'trust'],\n",
       "        num_rows: 886\n",
       "    })\n",
       "})"
      ]
     },
     "execution_count": 17,
     "metadata": {},
     "output_type": "execute_result"
    }
   ],
   "source": [
    "semEval = load_dataset(\"SemEvalWorkshop/sem_eval_2018_task_1\", 'subtask5.english', trust_remote_code=True)\n",
    "semEval"
   ]
  },
  {
   "cell_type": "code",
   "execution_count": 18,
   "metadata": {},
   "outputs": [
    {
     "data": {
      "text/plain": [
       "{'ID': '2017-En-21441',\n",
       " 'Tweet': \"“Worry is a down payment on a problem you may never have'. \\xa0Joyce Meyer.  #motivation #leadership #worry\",\n",
       " 'anger': False,\n",
       " 'anticipation': True,\n",
       " 'disgust': False,\n",
       " 'fear': False,\n",
       " 'joy': False,\n",
       " 'love': False,\n",
       " 'optimism': True,\n",
       " 'pessimism': False,\n",
       " 'sadness': False,\n",
       " 'surprise': False,\n",
       " 'trust': True}"
      ]
     },
     "execution_count": 18,
     "metadata": {},
     "output_type": "execute_result"
    }
   ],
   "source": [
    "semEval['train'][0]"
   ]
  },
  {
   "cell_type": "code",
   "execution_count": 19,
   "metadata": {},
   "outputs": [
    {
     "name": "stdout",
     "output_type": "stream",
     "text": [
      "Emotions in GoEmotions: ['anger', 'disgust', 'fear', 'joy', 'love', 'optimism', 'sadness', 'surprise']\n",
      "Emotions not in GoEmotions: ['anticipation', 'pessimism', 'trust']\n"
     ]
    }
   ],
   "source": [
    "semEval_emotions = [\"anger\", \"anticipation\", \"disgust\", \"fear\", \"joy\", \"love\", \"optimism\", \"pessimism\", \"sadness\", \"surprise\", \"trust\"]\n",
    "\n",
    "# emotions in goEmotions\n",
    "in_goEmo = []\n",
    "# emotions not in goEmotions\n",
    "not_in_goEmo = []\n",
    "for emo in semEval_emotions:\n",
    "    if emo in go_labels:\n",
    "        in_goEmo.append(emo)\n",
    "    else:\n",
    "        not_in_goEmo.append(emo)\n",
    "\n",
    "print(\"Emotions in GoEmotions:\", in_goEmo)\n",
    "print(\"Emotions not in GoEmotions:\", not_in_goEmo)"
   ]
  },
  {
   "cell_type": "code",
   "execution_count": 20,
   "metadata": {},
   "outputs": [
    {
     "data": {
      "text/plain": [
       "DatasetDict({\n",
       "    train: Dataset({\n",
       "        features: ['text', 'anger', 'disgust', 'fear', 'joy', 'love', 'optimism', 'sadness', 'surprise'],\n",
       "        num_rows: 6838\n",
       "    })\n",
       "    test: Dataset({\n",
       "        features: ['text', 'anger', 'disgust', 'fear', 'joy', 'love', 'optimism', 'sadness', 'surprise'],\n",
       "        num_rows: 3259\n",
       "    })\n",
       "    validation: Dataset({\n",
       "        features: ['text', 'anger', 'disgust', 'fear', 'joy', 'love', 'optimism', 'sadness', 'surprise'],\n",
       "        num_rows: 886\n",
       "    })\n",
       "})"
      ]
     },
     "execution_count": 20,
     "metadata": {},
     "output_type": "execute_result"
    }
   ],
   "source": [
    "# get rid of columns not being used and rename \n",
    "remove_cols = not_in_goEmo + [\"ID\"]\n",
    "\n",
    "semEval = semEval.remove_columns(remove_cols).rename_column(\"Tweet\", \"text\")\n",
    "semEval"
   ]
  },
  {
   "cell_type": "code",
   "execution_count": 21,
   "metadata": {},
   "outputs": [
    {
     "data": {
      "text/plain": [
       "{'text': \"@Max_Kellerman  it also helps that the majority of NFL coaching is inept. Some of Bill O'Brien's play calling was wow, ! #GOPATS\",\n",
       " 'anger': True,\n",
       " 'disgust': True,\n",
       " 'fear': False,\n",
       " 'joy': True,\n",
       " 'love': False,\n",
       " 'optimism': True,\n",
       " 'sadness': False,\n",
       " 'surprise': False}"
      ]
     },
     "execution_count": 21,
     "metadata": {},
     "output_type": "execute_result"
    }
   ],
   "source": [
    "semEval['train'][2]"
   ]
  },
  {
   "cell_type": "code",
   "execution_count": 22,
   "metadata": {},
   "outputs": [],
   "source": [
    "# get only True values from each emotion column\n",
    "def get_emotions(row):\n",
    "    emotions = [col for col in row.keys() if col != 'text' and row[col] == True]\n",
    "\n",
    "    return emotions"
   ]
  },
  {
   "cell_type": "code",
   "execution_count": 23,
   "metadata": {},
   "outputs": [
    {
     "data": {
      "text/plain": [
       "DatasetDict({\n",
       "    train: Dataset({\n",
       "        features: ['text', 'anger', 'disgust', 'fear', 'joy', 'love', 'optimism', 'sadness', 'surprise', 'labels'],\n",
       "        num_rows: 6838\n",
       "    })\n",
       "    test: Dataset({\n",
       "        features: ['text', 'anger', 'disgust', 'fear', 'joy', 'love', 'optimism', 'sadness', 'surprise', 'labels'],\n",
       "        num_rows: 3259\n",
       "    })\n",
       "    validation: Dataset({\n",
       "        features: ['text', 'anger', 'disgust', 'fear', 'joy', 'love', 'optimism', 'sadness', 'surprise', 'labels'],\n",
       "        num_rows: 886\n",
       "    })\n",
       "})"
      ]
     },
     "execution_count": 23,
     "metadata": {},
     "output_type": "execute_result"
    }
   ],
   "source": [
    "# create new column 'labels'\n",
    "semEval_new = semEval.map(lambda row: {'labels': get_emotions(row)})\n",
    "semEval_new"
   ]
  },
  {
   "cell_type": "code",
   "execution_count": 24,
   "metadata": {},
   "outputs": [
    {
     "data": {
      "text/plain": [
       "DatasetDict({\n",
       "    train: Dataset({\n",
       "        features: ['text', 'labels'],\n",
       "        num_rows: 6838\n",
       "    })\n",
       "    test: Dataset({\n",
       "        features: ['text', 'labels'],\n",
       "        num_rows: 3259\n",
       "    })\n",
       "    validation: Dataset({\n",
       "        features: ['text', 'labels'],\n",
       "        num_rows: 886\n",
       "    })\n",
       "})"
      ]
     },
     "execution_count": 24,
     "metadata": {},
     "output_type": "execute_result"
    }
   ],
   "source": [
    "# remove original sentiment columns\n",
    "semEval_new = semEval_new.remove_columns(in_goEmo)\n",
    "semEval_new"
   ]
  },
  {
   "cell_type": "code",
   "execution_count": null,
   "metadata": {},
   "outputs": [],
   "source": [
    "# convert to pandas for more cleaning (do it for train/val/test)\n",
    "# 1. some labels are empty arrays --> get rid of these examples\n",
    "# 2. check for duplicates\n",
    "semEval_train = semEval_new['train'].to_pandas()\n",
    "semEval_val = semEval_new['validation'].to_pandas()\n",
    "semEval_test = semEval_new['test'].to_pandas()"
   ]
  },
  {
   "cell_type": "code",
   "execution_count": 26,
   "metadata": {},
   "outputs": [],
   "source": [
    "# get rid of empty labels\n",
    "semEval_train = semEval_train[semEval_train['labels'].apply(lambda x: len(x) > 0)]\n",
    "semEval_val = semEval_val[semEval_val['labels'].apply(lambda x: len(x) > 0)]\n",
    "semEval_test = semEval_test[semEval_test['labels'].apply(lambda x: len(x) > 0)]"
   ]
  },
  {
   "cell_type": "code",
   "execution_count": 27,
   "metadata": {},
   "outputs": [
    {
     "data": {
      "text/html": [
       "<div>\n",
       "<style scoped>\n",
       "    .dataframe tbody tr th:only-of-type {\n",
       "        vertical-align: middle;\n",
       "    }\n",
       "\n",
       "    .dataframe tbody tr th {\n",
       "        vertical-align: top;\n",
       "    }\n",
       "\n",
       "    .dataframe thead th {\n",
       "        text-align: right;\n",
       "    }\n",
       "</style>\n",
       "<table border=\"1\" class=\"dataframe\">\n",
       "  <thead>\n",
       "    <tr style=\"text-align: right;\">\n",
       "      <th></th>\n",
       "      <th>text</th>\n",
       "      <th>labels</th>\n",
       "    </tr>\n",
       "  </thead>\n",
       "  <tbody>\n",
       "  </tbody>\n",
       "</table>\n",
       "</div>"
      ],
      "text/plain": [
       "Empty DataFrame\n",
       "Columns: [text, labels]\n",
       "Index: []"
      ]
     },
     "metadata": {},
     "output_type": "display_data"
    },
    {
     "data": {
      "text/html": [
       "<div>\n",
       "<style scoped>\n",
       "    .dataframe tbody tr th:only-of-type {\n",
       "        vertical-align: middle;\n",
       "    }\n",
       "\n",
       "    .dataframe tbody tr th {\n",
       "        vertical-align: top;\n",
       "    }\n",
       "\n",
       "    .dataframe thead th {\n",
       "        text-align: right;\n",
       "    }\n",
       "</style>\n",
       "<table border=\"1\" class=\"dataframe\">\n",
       "  <thead>\n",
       "    <tr style=\"text-align: right;\">\n",
       "      <th></th>\n",
       "      <th>text</th>\n",
       "      <th>labels</th>\n",
       "    </tr>\n",
       "  </thead>\n",
       "  <tbody>\n",
       "  </tbody>\n",
       "</table>\n",
       "</div>"
      ],
      "text/plain": [
       "Empty DataFrame\n",
       "Columns: [text, labels]\n",
       "Index: []"
      ]
     },
     "metadata": {},
     "output_type": "display_data"
    },
    {
     "data": {
      "text/html": [
       "<div>\n",
       "<style scoped>\n",
       "    .dataframe tbody tr th:only-of-type {\n",
       "        vertical-align: middle;\n",
       "    }\n",
       "\n",
       "    .dataframe tbody tr th {\n",
       "        vertical-align: top;\n",
       "    }\n",
       "\n",
       "    .dataframe thead th {\n",
       "        text-align: right;\n",
       "    }\n",
       "</style>\n",
       "<table border=\"1\" class=\"dataframe\">\n",
       "  <thead>\n",
       "    <tr style=\"text-align: right;\">\n",
       "      <th></th>\n",
       "      <th>text</th>\n",
       "      <th>labels</th>\n",
       "    </tr>\n",
       "  </thead>\n",
       "  <tbody>\n",
       "  </tbody>\n",
       "</table>\n",
       "</div>"
      ],
      "text/plain": [
       "Empty DataFrame\n",
       "Columns: [text, labels]\n",
       "Index: []"
      ]
     },
     "execution_count": 27,
     "metadata": {},
     "output_type": "execute_result"
    }
   ],
   "source": [
    "# check for duplicate text\n",
    "display(semEval_train[semEval_train.duplicated(subset=['text'], keep=False)])\n",
    "display(semEval_val[semEval_val.duplicated(subset=['text'], keep=False)])\n",
    "semEval_test[semEval_test.duplicated(subset=['text'], keep=False)]\n",
    "\n",
    "# no duplicates found"
   ]
  },
  {
   "cell_type": "code",
   "execution_count": 28,
   "metadata": {},
   "outputs": [
    {
     "data": {
      "text/html": [
       "<div>\n",
       "<style scoped>\n",
       "    .dataframe tbody tr th:only-of-type {\n",
       "        vertical-align: middle;\n",
       "    }\n",
       "\n",
       "    .dataframe tbody tr th {\n",
       "        vertical-align: top;\n",
       "    }\n",
       "\n",
       "    .dataframe thead th {\n",
       "        text-align: right;\n",
       "    }\n",
       "</style>\n",
       "<table border=\"1\" class=\"dataframe\">\n",
       "  <thead>\n",
       "    <tr style=\"text-align: right;\">\n",
       "      <th></th>\n",
       "      <th>text</th>\n",
       "      <th>labels</th>\n",
       "    </tr>\n",
       "  </thead>\n",
       "  <tbody>\n",
       "    <tr>\n",
       "      <th>0</th>\n",
       "      <td>“Worry is a down payment on a problem you may ...</td>\n",
       "      <td>[optimism]</td>\n",
       "    </tr>\n",
       "    <tr>\n",
       "      <th>1</th>\n",
       "      <td>Whatever you decide to do make sure it makes y...</td>\n",
       "      <td>[joy, love, optimism]</td>\n",
       "    </tr>\n",
       "    <tr>\n",
       "      <th>2</th>\n",
       "      <td>@Max_Kellerman  it also helps that the majorit...</td>\n",
       "      <td>[anger, disgust, joy, optimism]</td>\n",
       "    </tr>\n",
       "    <tr>\n",
       "      <th>3</th>\n",
       "      <td>Accept the challenges so that you can literall...</td>\n",
       "      <td>[joy, optimism]</td>\n",
       "    </tr>\n",
       "    <tr>\n",
       "      <th>4</th>\n",
       "      <td>My roommate: it's okay that we can't spell bec...</td>\n",
       "      <td>[anger, disgust]</td>\n",
       "    </tr>\n",
       "    <tr>\n",
       "      <th>...</th>\n",
       "      <td>...</td>\n",
       "      <td>...</td>\n",
       "    </tr>\n",
       "    <tr>\n",
       "      <th>6831</th>\n",
       "      <td>.@Travelanswerman: The possibilities R endless...</td>\n",
       "      <td>[joy, optimism]</td>\n",
       "    </tr>\n",
       "    <tr>\n",
       "      <th>6832</th>\n",
       "      <td>You have a #problem? Yes! Can you do #somethin...</td>\n",
       "      <td>[anger, disgust]</td>\n",
       "    </tr>\n",
       "    <tr>\n",
       "      <th>6834</th>\n",
       "      <td>@andreamitchell said @berniesanders not only d...</td>\n",
       "      <td>[surprise]</td>\n",
       "    </tr>\n",
       "    <tr>\n",
       "      <th>6835</th>\n",
       "      <td>@isthataspider @dhodgs i will fight this guy! ...</td>\n",
       "      <td>[anger, disgust]</td>\n",
       "    </tr>\n",
       "    <tr>\n",
       "      <th>6836</th>\n",
       "      <td>i wonder how a guy can broke his penis while h...</td>\n",
       "      <td>[surprise]</td>\n",
       "    </tr>\n",
       "  </tbody>\n",
       "</table>\n",
       "<p>6539 rows × 2 columns</p>\n",
       "</div>"
      ],
      "text/plain": [
       "                                                   text  \\\n",
       "0     “Worry is a down payment on a problem you may ...   \n",
       "1     Whatever you decide to do make sure it makes y...   \n",
       "2     @Max_Kellerman  it also helps that the majorit...   \n",
       "3     Accept the challenges so that you can literall...   \n",
       "4     My roommate: it's okay that we can't spell bec...   \n",
       "...                                                 ...   \n",
       "6831  .@Travelanswerman: The possibilities R endless...   \n",
       "6832  You have a #problem? Yes! Can you do #somethin...   \n",
       "6834  @andreamitchell said @berniesanders not only d...   \n",
       "6835  @isthataspider @dhodgs i will fight this guy! ...   \n",
       "6836  i wonder how a guy can broke his penis while h...   \n",
       "\n",
       "                               labels  \n",
       "0                          [optimism]  \n",
       "1               [joy, love, optimism]  \n",
       "2     [anger, disgust, joy, optimism]  \n",
       "3                     [joy, optimism]  \n",
       "4                    [anger, disgust]  \n",
       "...                               ...  \n",
       "6831                  [joy, optimism]  \n",
       "6832                 [anger, disgust]  \n",
       "6834                       [surprise]  \n",
       "6835                 [anger, disgust]  \n",
       "6836                       [surprise]  \n",
       "\n",
       "[6539 rows x 2 columns]"
      ]
     },
     "execution_count": 28,
     "metadata": {},
     "output_type": "execute_result"
    }
   ],
   "source": [
    "semEval_train"
   ]
  },
  {
   "cell_type": "code",
   "execution_count": 29,
   "metadata": {},
   "outputs": [],
   "source": [
    "# convert string labels to ids\n",
    "semEval_train['labels'] = semEval_train['labels'].apply(lambda labels_list: convert2id(go_label2id, labels_list))\n",
    "semEval_val['labels'] = semEval_val['labels'].apply(lambda labels_list: convert2id(go_label2id, labels_list))\n",
    "semEval_test['labels'] = semEval_test['labels'].apply(lambda labels_list: convert2id(go_label2id, labels_list))"
   ]
  },
  {
   "cell_type": "code",
   "execution_count": 30,
   "metadata": {},
   "outputs": [],
   "source": [
    "# reseting index so that dataset doesn't get extra column named '__index_level_0__' when converting to hf df\n",
    "semEval_train = semEval_train.reset_index(drop=True)\n",
    "semEval_val = semEval_val.reset_index(drop=True)\n",
    "semEval_test = semEval_test.reset_index(drop=True)"
   ]
  },
  {
   "cell_type": "code",
   "execution_count": 31,
   "metadata": {},
   "outputs": [
    {
     "data": {
      "text/html": [
       "<div>\n",
       "<style scoped>\n",
       "    .dataframe tbody tr th:only-of-type {\n",
       "        vertical-align: middle;\n",
       "    }\n",
       "\n",
       "    .dataframe tbody tr th {\n",
       "        vertical-align: top;\n",
       "    }\n",
       "\n",
       "    .dataframe thead th {\n",
       "        text-align: right;\n",
       "    }\n",
       "</style>\n",
       "<table border=\"1\" class=\"dataframe\">\n",
       "  <thead>\n",
       "    <tr style=\"text-align: right;\">\n",
       "      <th></th>\n",
       "      <th>text</th>\n",
       "      <th>labels</th>\n",
       "    </tr>\n",
       "  </thead>\n",
       "  <tbody>\n",
       "    <tr>\n",
       "      <th>0</th>\n",
       "      <td>“Worry is a down payment on a problem you may ...</td>\n",
       "      <td>[20]</td>\n",
       "    </tr>\n",
       "    <tr>\n",
       "      <th>1</th>\n",
       "      <td>Whatever you decide to do make sure it makes y...</td>\n",
       "      <td>[17, 18, 20]</td>\n",
       "    </tr>\n",
       "    <tr>\n",
       "      <th>2</th>\n",
       "      <td>@Max_Kellerman  it also helps that the majorit...</td>\n",
       "      <td>[2, 11, 17, 20]</td>\n",
       "    </tr>\n",
       "    <tr>\n",
       "      <th>3</th>\n",
       "      <td>Accept the challenges so that you can literall...</td>\n",
       "      <td>[17, 20]</td>\n",
       "    </tr>\n",
       "    <tr>\n",
       "      <th>4</th>\n",
       "      <td>My roommate: it's okay that we can't spell bec...</td>\n",
       "      <td>[2, 11]</td>\n",
       "    </tr>\n",
       "    <tr>\n",
       "      <th>...</th>\n",
       "      <td>...</td>\n",
       "      <td>...</td>\n",
       "    </tr>\n",
       "    <tr>\n",
       "      <th>6534</th>\n",
       "      <td>.@Travelanswerman: The possibilities R endless...</td>\n",
       "      <td>[17, 20]</td>\n",
       "    </tr>\n",
       "    <tr>\n",
       "      <th>6535</th>\n",
       "      <td>You have a #problem? Yes! Can you do #somethin...</td>\n",
       "      <td>[2, 11]</td>\n",
       "    </tr>\n",
       "    <tr>\n",
       "      <th>6536</th>\n",
       "      <td>@andreamitchell said @berniesanders not only d...</td>\n",
       "      <td>[26]</td>\n",
       "    </tr>\n",
       "    <tr>\n",
       "      <th>6537</th>\n",
       "      <td>@isthataspider @dhodgs i will fight this guy! ...</td>\n",
       "      <td>[2, 11]</td>\n",
       "    </tr>\n",
       "    <tr>\n",
       "      <th>6538</th>\n",
       "      <td>i wonder how a guy can broke his penis while h...</td>\n",
       "      <td>[26]</td>\n",
       "    </tr>\n",
       "  </tbody>\n",
       "</table>\n",
       "<p>6539 rows × 2 columns</p>\n",
       "</div>"
      ],
      "text/plain": [
       "                                                   text           labels\n",
       "0     “Worry is a down payment on a problem you may ...             [20]\n",
       "1     Whatever you decide to do make sure it makes y...     [17, 18, 20]\n",
       "2     @Max_Kellerman  it also helps that the majorit...  [2, 11, 17, 20]\n",
       "3     Accept the challenges so that you can literall...         [17, 20]\n",
       "4     My roommate: it's okay that we can't spell bec...          [2, 11]\n",
       "...                                                 ...              ...\n",
       "6534  .@Travelanswerman: The possibilities R endless...         [17, 20]\n",
       "6535  You have a #problem? Yes! Can you do #somethin...          [2, 11]\n",
       "6536  @andreamitchell said @berniesanders not only d...             [26]\n",
       "6537  @isthataspider @dhodgs i will fight this guy! ...          [2, 11]\n",
       "6538  i wonder how a guy can broke his penis while h...             [26]\n",
       "\n",
       "[6539 rows x 2 columns]"
      ]
     },
     "execution_count": 31,
     "metadata": {},
     "output_type": "execute_result"
    }
   ],
   "source": [
    "semEval_train"
   ]
  },
  {
   "cell_type": "code",
   "execution_count": 32,
   "metadata": {},
   "outputs": [
    {
     "data": {
      "text/plain": [
       "DatasetDict({\n",
       "    train: Dataset({\n",
       "        features: ['text', 'labels'],\n",
       "        num_rows: 6539\n",
       "    })\n",
       "    validation: Dataset({\n",
       "        features: ['text', 'labels'],\n",
       "        num_rows: 865\n",
       "    })\n",
       "    test: Dataset({\n",
       "        features: ['text', 'labels'],\n",
       "        num_rows: 3156\n",
       "    })\n",
       "})"
      ]
     },
     "execution_count": 32,
     "metadata": {},
     "output_type": "execute_result"
    }
   ],
   "source": [
    "# convert pandas df back to hf df\n",
    "semEval_hf = split_convert2hf_dataset(semEval_train, semEval_val, semEval_test, random_state)\n",
    "semEval_hf"
   ]
  },
  {
   "cell_type": "code",
   "execution_count": 33,
   "metadata": {},
   "outputs": [
    {
     "data": {
      "application/vnd.jupyter.widget-view+json": {
       "model_id": "ff8f84190f0d49d99b5b114406abd4bd",
       "version_major": 2,
       "version_minor": 0
      },
      "text/plain": [
       "Map:   0%|          | 0/6539 [00:00<?, ? examples/s]"
      ]
     },
     "metadata": {},
     "output_type": "display_data"
    },
    {
     "data": {
      "application/vnd.jupyter.widget-view+json": {
       "model_id": "abe07a6931c74de789be9c915d9b15c8",
       "version_major": 2,
       "version_minor": 0
      },
      "text/plain": [
       "Map:   0%|          | 0/865 [00:00<?, ? examples/s]"
      ]
     },
     "metadata": {},
     "output_type": "display_data"
    },
    {
     "data": {
      "application/vnd.jupyter.widget-view+json": {
       "model_id": "0e4ef6d452fc4855b58d85a69757ecb4",
       "version_major": 2,
       "version_minor": 0
      },
      "text/plain": [
       "Map:   0%|          | 0/3156 [00:00<?, ? examples/s]"
      ]
     },
     "metadata": {},
     "output_type": "display_data"
    },
    {
     "data": {
      "text/plain": [
       "DatasetDict({\n",
       "    train: Dataset({\n",
       "        features: ['text', 'labels'],\n",
       "        num_rows: 6539\n",
       "    })\n",
       "    validation: Dataset({\n",
       "        features: ['text', 'labels'],\n",
       "        num_rows: 865\n",
       "    })\n",
       "    test: Dataset({\n",
       "        features: ['text', 'labels'],\n",
       "        num_rows: 3156\n",
       "    })\n",
       "})"
      ]
     },
     "execution_count": 33,
     "metadata": {},
     "output_type": "execute_result"
    }
   ],
   "source": [
    "# change labels to ohe\n",
    "semEval_hf_ohe = semEval_hf.map(lambda x: {\"labels\": ohe(x[\"labels\"], num_go_labels)})\n",
    "semEval_hf_ohe"
   ]
  },
  {
   "cell_type": "code",
   "execution_count": 34,
   "metadata": {},
   "outputs": [
    {
     "data": {
      "text/plain": [
       "[2, 11, 17, 20]"
      ]
     },
     "metadata": {},
     "output_type": "display_data"
    },
    {
     "data": {
      "text/plain": [
       "'[0, 0, 1, 0, 0, 0, 0, 0, 0, 0, 0, 1, 0, 0, 0, 0, 0, 1, 0, 0, 1, 0, 0, 0, 0, 0, 0, 0]'"
      ]
     },
     "execution_count": 34,
     "metadata": {},
     "output_type": "execute_result"
    }
   ],
   "source": [
    "display(semEval_hf[\"train\"][2]['labels'])\n",
    "str(semEval_hf_ohe[\"train\"][2]['labels'])"
   ]
  },
  {
   "cell_type": "code",
   "execution_count": 35,
   "metadata": {},
   "outputs": [
    {
     "name": "stdout",
     "output_type": "stream",
     "text": [
      "Dataset already exists.\n"
     ]
    }
   ],
   "source": [
    "# save to disk\n",
    "file_name = 'semEval_hf'\n",
    "file_path = f'./datasets/cleaned_hf/{file_name}'\n",
    "save_hf_dataset(file_path, semEval_hf_ohe)"
   ]
  },
  {
   "cell_type": "markdown",
   "metadata": {},
   "source": [
    "### pashupatigupta twitter"
   ]
  },
  {
   "cell_type": "code",
   "execution_count": 73,
   "metadata": {},
   "outputs": [
    {
     "data": {
      "text/html": [
       "<div>\n",
       "<style scoped>\n",
       "    .dataframe tbody tr th:only-of-type {\n",
       "        vertical-align: middle;\n",
       "    }\n",
       "\n",
       "    .dataframe tbody tr th {\n",
       "        vertical-align: top;\n",
       "    }\n",
       "\n",
       "    .dataframe thead th {\n",
       "        text-align: right;\n",
       "    }\n",
       "</style>\n",
       "<table border=\"1\" class=\"dataframe\">\n",
       "  <thead>\n",
       "    <tr style=\"text-align: right;\">\n",
       "      <th></th>\n",
       "      <th>tweet_id</th>\n",
       "      <th>sentiment</th>\n",
       "      <th>content</th>\n",
       "    </tr>\n",
       "  </thead>\n",
       "  <tbody>\n",
       "    <tr>\n",
       "      <th>0</th>\n",
       "      <td>1956967341</td>\n",
       "      <td>empty</td>\n",
       "      <td>@tiffanylue i know  i was listenin to bad habi...</td>\n",
       "    </tr>\n",
       "    <tr>\n",
       "      <th>1</th>\n",
       "      <td>1956967666</td>\n",
       "      <td>sadness</td>\n",
       "      <td>Layin n bed with a headache  ughhhh...waitin o...</td>\n",
       "    </tr>\n",
       "    <tr>\n",
       "      <th>2</th>\n",
       "      <td>1956967696</td>\n",
       "      <td>sadness</td>\n",
       "      <td>Funeral ceremony...gloomy friday...</td>\n",
       "    </tr>\n",
       "    <tr>\n",
       "      <th>3</th>\n",
       "      <td>1956967789</td>\n",
       "      <td>enthusiasm</td>\n",
       "      <td>wants to hang out with friends SOON!</td>\n",
       "    </tr>\n",
       "    <tr>\n",
       "      <th>4</th>\n",
       "      <td>1956968416</td>\n",
       "      <td>neutral</td>\n",
       "      <td>@dannycastillo We want to trade with someone w...</td>\n",
       "    </tr>\n",
       "    <tr>\n",
       "      <th>...</th>\n",
       "      <td>...</td>\n",
       "      <td>...</td>\n",
       "      <td>...</td>\n",
       "    </tr>\n",
       "    <tr>\n",
       "      <th>39995</th>\n",
       "      <td>1753918954</td>\n",
       "      <td>neutral</td>\n",
       "      <td>@JohnLloydTaylor</td>\n",
       "    </tr>\n",
       "    <tr>\n",
       "      <th>39996</th>\n",
       "      <td>1753919001</td>\n",
       "      <td>love</td>\n",
       "      <td>Happy Mothers Day  All my love</td>\n",
       "    </tr>\n",
       "    <tr>\n",
       "      <th>39997</th>\n",
       "      <td>1753919005</td>\n",
       "      <td>love</td>\n",
       "      <td>Happy Mother's Day to all the mommies out ther...</td>\n",
       "    </tr>\n",
       "    <tr>\n",
       "      <th>39998</th>\n",
       "      <td>1753919043</td>\n",
       "      <td>happiness</td>\n",
       "      <td>@niariley WASSUP BEAUTIFUL!!! FOLLOW ME!!  PEE...</td>\n",
       "    </tr>\n",
       "    <tr>\n",
       "      <th>39999</th>\n",
       "      <td>1753919049</td>\n",
       "      <td>love</td>\n",
       "      <td>@mopedronin bullet train from tokyo    the gf ...</td>\n",
       "    </tr>\n",
       "  </tbody>\n",
       "</table>\n",
       "<p>40000 rows × 3 columns</p>\n",
       "</div>"
      ],
      "text/plain": [
       "         tweet_id   sentiment  \\\n",
       "0      1956967341       empty   \n",
       "1      1956967666     sadness   \n",
       "2      1956967696     sadness   \n",
       "3      1956967789  enthusiasm   \n",
       "4      1956968416     neutral   \n",
       "...           ...         ...   \n",
       "39995  1753918954     neutral   \n",
       "39996  1753919001        love   \n",
       "39997  1753919005        love   \n",
       "39998  1753919043   happiness   \n",
       "39999  1753919049        love   \n",
       "\n",
       "                                                 content  \n",
       "0      @tiffanylue i know  i was listenin to bad habi...  \n",
       "1      Layin n bed with a headache  ughhhh...waitin o...  \n",
       "2                    Funeral ceremony...gloomy friday...  \n",
       "3                   wants to hang out with friends SOON!  \n",
       "4      @dannycastillo We want to trade with someone w...  \n",
       "...                                                  ...  \n",
       "39995                                   @JohnLloydTaylor  \n",
       "39996                     Happy Mothers Day  All my love  \n",
       "39997  Happy Mother's Day to all the mommies out ther...  \n",
       "39998  @niariley WASSUP BEAUTIFUL!!! FOLLOW ME!!  PEE...  \n",
       "39999  @mopedronin bullet train from tokyo    the gf ...  \n",
       "\n",
       "[40000 rows x 3 columns]"
      ]
     },
     "execution_count": 73,
     "metadata": {},
     "output_type": "execute_result"
    }
   ],
   "source": [
    "pash = pd.read_csv('./datasets/pashupatigupta_emotions_twitter.csv')\n",
    "pash"
   ]
  },
  {
   "cell_type": "code",
   "execution_count": 74,
   "metadata": {},
   "outputs": [
    {
     "data": {
      "text/html": [
       "<div>\n",
       "<style scoped>\n",
       "    .dataframe tbody tr th:only-of-type {\n",
       "        vertical-align: middle;\n",
       "    }\n",
       "\n",
       "    .dataframe tbody tr th {\n",
       "        vertical-align: top;\n",
       "    }\n",
       "\n",
       "    .dataframe thead th {\n",
       "        text-align: right;\n",
       "    }\n",
       "</style>\n",
       "<table border=\"1\" class=\"dataframe\">\n",
       "  <thead>\n",
       "    <tr style=\"text-align: right;\">\n",
       "      <th></th>\n",
       "      <th>labels</th>\n",
       "      <th>text</th>\n",
       "    </tr>\n",
       "  </thead>\n",
       "  <tbody>\n",
       "    <tr>\n",
       "      <th>0</th>\n",
       "      <td>empty</td>\n",
       "      <td>@tiffanylue i know  i was listenin to bad habi...</td>\n",
       "    </tr>\n",
       "    <tr>\n",
       "      <th>1</th>\n",
       "      <td>sadness</td>\n",
       "      <td>Layin n bed with a headache  ughhhh...waitin o...</td>\n",
       "    </tr>\n",
       "    <tr>\n",
       "      <th>2</th>\n",
       "      <td>sadness</td>\n",
       "      <td>Funeral ceremony...gloomy friday...</td>\n",
       "    </tr>\n",
       "    <tr>\n",
       "      <th>3</th>\n",
       "      <td>enthusiasm</td>\n",
       "      <td>wants to hang out with friends SOON!</td>\n",
       "    </tr>\n",
       "    <tr>\n",
       "      <th>4</th>\n",
       "      <td>neutral</td>\n",
       "      <td>@dannycastillo We want to trade with someone w...</td>\n",
       "    </tr>\n",
       "    <tr>\n",
       "      <th>...</th>\n",
       "      <td>...</td>\n",
       "      <td>...</td>\n",
       "    </tr>\n",
       "    <tr>\n",
       "      <th>39995</th>\n",
       "      <td>neutral</td>\n",
       "      <td>@JohnLloydTaylor</td>\n",
       "    </tr>\n",
       "    <tr>\n",
       "      <th>39996</th>\n",
       "      <td>love</td>\n",
       "      <td>Happy Mothers Day  All my love</td>\n",
       "    </tr>\n",
       "    <tr>\n",
       "      <th>39997</th>\n",
       "      <td>love</td>\n",
       "      <td>Happy Mother's Day to all the mommies out ther...</td>\n",
       "    </tr>\n",
       "    <tr>\n",
       "      <th>39998</th>\n",
       "      <td>happiness</td>\n",
       "      <td>@niariley WASSUP BEAUTIFUL!!! FOLLOW ME!!  PEE...</td>\n",
       "    </tr>\n",
       "    <tr>\n",
       "      <th>39999</th>\n",
       "      <td>love</td>\n",
       "      <td>@mopedronin bullet train from tokyo    the gf ...</td>\n",
       "    </tr>\n",
       "  </tbody>\n",
       "</table>\n",
       "<p>40000 rows × 2 columns</p>\n",
       "</div>"
      ],
      "text/plain": [
       "           labels                                               text\n",
       "0           empty  @tiffanylue i know  i was listenin to bad habi...\n",
       "1         sadness  Layin n bed with a headache  ughhhh...waitin o...\n",
       "2         sadness                Funeral ceremony...gloomy friday...\n",
       "3      enthusiasm               wants to hang out with friends SOON!\n",
       "4         neutral  @dannycastillo We want to trade with someone w...\n",
       "...           ...                                                ...\n",
       "39995     neutral                                   @JohnLloydTaylor\n",
       "39996        love                     Happy Mothers Day  All my love\n",
       "39997        love  Happy Mother's Day to all the mommies out ther...\n",
       "39998   happiness  @niariley WASSUP BEAUTIFUL!!! FOLLOW ME!!  PEE...\n",
       "39999        love  @mopedronin bullet train from tokyo    the gf ...\n",
       "\n",
       "[40000 rows x 2 columns]"
      ]
     },
     "execution_count": 74,
     "metadata": {},
     "output_type": "execute_result"
    }
   ],
   "source": [
    "# rename column: content -> text\n",
    "pash = pash.rename(columns={'sentiment': 'labels', 'content': 'text'})\n",
    "pash = pash.drop('tweet_id', axis=1)\n",
    "pash"
   ]
  },
  {
   "cell_type": "code",
   "execution_count": 75,
   "metadata": {},
   "outputs": [
    {
     "data": {
      "text/plain": [
       "['empty',\n",
       " 'sadness',\n",
       " 'enthusiasm',\n",
       " 'neutral',\n",
       " 'worry',\n",
       " 'surprise',\n",
       " 'love',\n",
       " 'fun',\n",
       " 'hate',\n",
       " 'happiness',\n",
       " 'boredom',\n",
       " 'relief',\n",
       " 'anger']"
      ]
     },
     "execution_count": 75,
     "metadata": {},
     "output_type": "execute_result"
    }
   ],
   "source": [
    "pash['labels'].unique().tolist()"
   ]
  },
  {
   "cell_type": "code",
   "execution_count": 76,
   "metadata": {},
   "outputs": [
    {
     "data": {
      "text/html": [
       "<div>\n",
       "<style scoped>\n",
       "    .dataframe tbody tr th:only-of-type {\n",
       "        vertical-align: middle;\n",
       "    }\n",
       "\n",
       "    .dataframe tbody tr th {\n",
       "        vertical-align: top;\n",
       "    }\n",
       "\n",
       "    .dataframe thead th {\n",
       "        text-align: right;\n",
       "    }\n",
       "</style>\n",
       "<table border=\"1\" class=\"dataframe\">\n",
       "  <thead>\n",
       "    <tr style=\"text-align: right;\">\n",
       "      <th></th>\n",
       "      <th>labels</th>\n",
       "      <th>text</th>\n",
       "    </tr>\n",
       "  </thead>\n",
       "  <tbody>\n",
       "    <tr>\n",
       "      <th>1</th>\n",
       "      <td>sadness</td>\n",
       "      <td>Layin n bed with a headache  ughhhh...waitin o...</td>\n",
       "    </tr>\n",
       "    <tr>\n",
       "      <th>2</th>\n",
       "      <td>sadness</td>\n",
       "      <td>Funeral ceremony...gloomy friday...</td>\n",
       "    </tr>\n",
       "    <tr>\n",
       "      <th>4</th>\n",
       "      <td>neutral</td>\n",
       "      <td>@dannycastillo We want to trade with someone w...</td>\n",
       "    </tr>\n",
       "    <tr>\n",
       "      <th>6</th>\n",
       "      <td>sadness</td>\n",
       "      <td>I should be sleep, but im not! thinking about ...</td>\n",
       "    </tr>\n",
       "    <tr>\n",
       "      <th>8</th>\n",
       "      <td>sadness</td>\n",
       "      <td>@charviray Charlene my love. I miss you</td>\n",
       "    </tr>\n",
       "    <tr>\n",
       "      <th>...</th>\n",
       "      <td>...</td>\n",
       "      <td>...</td>\n",
       "    </tr>\n",
       "    <tr>\n",
       "      <th>39993</th>\n",
       "      <td>neutral</td>\n",
       "      <td>@sendsome2me haha, yeah. Twitter has many uses...</td>\n",
       "    </tr>\n",
       "    <tr>\n",
       "      <th>39995</th>\n",
       "      <td>neutral</td>\n",
       "      <td>@JohnLloydTaylor</td>\n",
       "    </tr>\n",
       "    <tr>\n",
       "      <th>39996</th>\n",
       "      <td>love</td>\n",
       "      <td>Happy Mothers Day  All my love</td>\n",
       "    </tr>\n",
       "    <tr>\n",
       "      <th>39997</th>\n",
       "      <td>love</td>\n",
       "      <td>Happy Mother's Day to all the mommies out ther...</td>\n",
       "    </tr>\n",
       "    <tr>\n",
       "      <th>39999</th>\n",
       "      <td>love</td>\n",
       "      <td>@mopedronin bullet train from tokyo    the gf ...</td>\n",
       "    </tr>\n",
       "  </tbody>\n",
       "</table>\n",
       "<p>21468 rows × 2 columns</p>\n",
       "</div>"
      ],
      "text/plain": [
       "        labels                                               text\n",
       "1      sadness  Layin n bed with a headache  ughhhh...waitin o...\n",
       "2      sadness                Funeral ceremony...gloomy friday...\n",
       "4      neutral  @dannycastillo We want to trade with someone w...\n",
       "6      sadness  I should be sleep, but im not! thinking about ...\n",
       "8      sadness            @charviray Charlene my love. I miss you\n",
       "...        ...                                                ...\n",
       "39993  neutral  @sendsome2me haha, yeah. Twitter has many uses...\n",
       "39995  neutral                                   @JohnLloydTaylor\n",
       "39996     love                     Happy Mothers Day  All my love\n",
       "39997     love  Happy Mother's Day to all the mommies out ther...\n",
       "39999     love  @mopedronin bullet train from tokyo    the gf ...\n",
       "\n",
       "[21468 rows x 2 columns]"
      ]
     },
     "execution_count": 76,
     "metadata": {},
     "output_type": "execute_result"
    }
   ],
   "source": [
    "# get emotions only in goemotions labels (disregard others)\n",
    "pash_redu = pash[pash[\"labels\"].isin(go_labels)]\n",
    "pash_redu"
   ]
  },
  {
   "cell_type": "code",
   "execution_count": 77,
   "metadata": {},
   "outputs": [
    {
     "data": {
      "text/plain": [
       "['sadness', 'neutral', 'surprise', 'love', 'relief', 'anger']"
      ]
     },
     "execution_count": 77,
     "metadata": {},
     "output_type": "execute_result"
    }
   ],
   "source": [
    "pash_redu_labels = pash_redu['labels'].unique().tolist()\n",
    "pash_redu_labels"
   ]
  },
  {
   "cell_type": "code",
   "execution_count": 78,
   "metadata": {},
   "outputs": [
    {
     "data": {
      "text/html": [
       "<div>\n",
       "<style scoped>\n",
       "    .dataframe tbody tr th:only-of-type {\n",
       "        vertical-align: middle;\n",
       "    }\n",
       "\n",
       "    .dataframe tbody tr th {\n",
       "        vertical-align: top;\n",
       "    }\n",
       "\n",
       "    .dataframe thead th {\n",
       "        text-align: right;\n",
       "    }\n",
       "</style>\n",
       "<table border=\"1\" class=\"dataframe\">\n",
       "  <thead>\n",
       "    <tr style=\"text-align: right;\">\n",
       "      <th></th>\n",
       "      <th>labels</th>\n",
       "      <th>text</th>\n",
       "    </tr>\n",
       "  </thead>\n",
       "  <tbody>\n",
       "    <tr>\n",
       "      <th>0</th>\n",
       "      <td>[sadness]</td>\n",
       "      <td>Layin n bed with a headache  ughhhh...waitin o...</td>\n",
       "    </tr>\n",
       "    <tr>\n",
       "      <th>1</th>\n",
       "      <td>[sadness]</td>\n",
       "      <td>Funeral ceremony...gloomy friday...</td>\n",
       "    </tr>\n",
       "    <tr>\n",
       "      <th>2</th>\n",
       "      <td>[neutral]</td>\n",
       "      <td>@dannycastillo We want to trade with someone w...</td>\n",
       "    </tr>\n",
       "    <tr>\n",
       "      <th>3</th>\n",
       "      <td>[sadness]</td>\n",
       "      <td>I should be sleep, but im not! thinking about ...</td>\n",
       "    </tr>\n",
       "    <tr>\n",
       "      <th>4</th>\n",
       "      <td>[sadness]</td>\n",
       "      <td>@charviray Charlene my love. I miss you</td>\n",
       "    </tr>\n",
       "    <tr>\n",
       "      <th>...</th>\n",
       "      <td>...</td>\n",
       "      <td>...</td>\n",
       "    </tr>\n",
       "    <tr>\n",
       "      <th>21368</th>\n",
       "      <td>[sadness, surprise]</td>\n",
       "      <td>my tummy hurts</td>\n",
       "    </tr>\n",
       "    <tr>\n",
       "      <th>21369</th>\n",
       "      <td>[sadness]</td>\n",
       "      <td>not feeling too great today</td>\n",
       "    </tr>\n",
       "    <tr>\n",
       "      <th>21370</th>\n",
       "      <td>[neutral]</td>\n",
       "      <td>nothing</td>\n",
       "    </tr>\n",
       "    <tr>\n",
       "      <th>21371</th>\n",
       "      <td>[sadness, surprise]</td>\n",
       "      <td>we're getting another puppy  ... not cool... r...</td>\n",
       "    </tr>\n",
       "    <tr>\n",
       "      <th>21372</th>\n",
       "      <td>[relief, neutral]</td>\n",
       "      <td>work all day</td>\n",
       "    </tr>\n",
       "  </tbody>\n",
       "</table>\n",
       "<p>21373 rows × 2 columns</p>\n",
       "</div>"
      ],
      "text/plain": [
       "                    labels                                               text\n",
       "0                [sadness]  Layin n bed with a headache  ughhhh...waitin o...\n",
       "1                [sadness]                Funeral ceremony...gloomy friday...\n",
       "2                [neutral]  @dannycastillo We want to trade with someone w...\n",
       "3                [sadness]  I should be sleep, but im not! thinking about ...\n",
       "4                [sadness]            @charviray Charlene my love. I miss you\n",
       "...                    ...                                                ...\n",
       "21368  [sadness, surprise]                                     my tummy hurts\n",
       "21369            [sadness]                        not feeling too great today\n",
       "21370            [neutral]                                            nothing\n",
       "21371  [sadness, surprise]  we're getting another puppy  ... not cool... r...\n",
       "21372    [relief, neutral]                                       work all day\n",
       "\n",
       "[21373 rows x 2 columns]"
      ]
     },
     "execution_count": 78,
     "metadata": {},
     "output_type": "execute_result"
    }
   ],
   "source": [
    "pash_cleaned = to_multilabels_df(pash_redu)\n",
    "pash_cleaned"
   ]
  },
  {
   "cell_type": "code",
   "execution_count": 79,
   "metadata": {},
   "outputs": [],
   "source": [
    "# swap columns\n",
    "pash_cleaned = pash_cleaned[['text', 'labels']]"
   ]
  },
  {
   "cell_type": "code",
   "execution_count": 80,
   "metadata": {},
   "outputs": [
    {
     "data": {
      "text/html": [
       "<div>\n",
       "<style scoped>\n",
       "    .dataframe tbody tr th:only-of-type {\n",
       "        vertical-align: middle;\n",
       "    }\n",
       "\n",
       "    .dataframe tbody tr th {\n",
       "        vertical-align: top;\n",
       "    }\n",
       "\n",
       "    .dataframe thead th {\n",
       "        text-align: right;\n",
       "    }\n",
       "</style>\n",
       "<table border=\"1\" class=\"dataframe\">\n",
       "  <thead>\n",
       "    <tr style=\"text-align: right;\">\n",
       "      <th></th>\n",
       "      <th>text</th>\n",
       "      <th>labels</th>\n",
       "    </tr>\n",
       "  </thead>\n",
       "  <tbody>\n",
       "    <tr>\n",
       "      <th>0</th>\n",
       "      <td>Layin n bed with a headache  ughhhh...waitin o...</td>\n",
       "      <td>[25]</td>\n",
       "    </tr>\n",
       "    <tr>\n",
       "      <th>1</th>\n",
       "      <td>Funeral ceremony...gloomy friday...</td>\n",
       "      <td>[25]</td>\n",
       "    </tr>\n",
       "    <tr>\n",
       "      <th>2</th>\n",
       "      <td>@dannycastillo We want to trade with someone w...</td>\n",
       "      <td>[27]</td>\n",
       "    </tr>\n",
       "    <tr>\n",
       "      <th>3</th>\n",
       "      <td>I should be sleep, but im not! thinking about ...</td>\n",
       "      <td>[25]</td>\n",
       "    </tr>\n",
       "    <tr>\n",
       "      <th>4</th>\n",
       "      <td>@charviray Charlene my love. I miss you</td>\n",
       "      <td>[25]</td>\n",
       "    </tr>\n",
       "    <tr>\n",
       "      <th>...</th>\n",
       "      <td>...</td>\n",
       "      <td>...</td>\n",
       "    </tr>\n",
       "    <tr>\n",
       "      <th>21368</th>\n",
       "      <td>my tummy hurts</td>\n",
       "      <td>[25, 26]</td>\n",
       "    </tr>\n",
       "    <tr>\n",
       "      <th>21369</th>\n",
       "      <td>not feeling too great today</td>\n",
       "      <td>[25]</td>\n",
       "    </tr>\n",
       "    <tr>\n",
       "      <th>21370</th>\n",
       "      <td>nothing</td>\n",
       "      <td>[27]</td>\n",
       "    </tr>\n",
       "    <tr>\n",
       "      <th>21371</th>\n",
       "      <td>we're getting another puppy  ... not cool... r...</td>\n",
       "      <td>[25, 26]</td>\n",
       "    </tr>\n",
       "    <tr>\n",
       "      <th>21372</th>\n",
       "      <td>work all day</td>\n",
       "      <td>[23, 27]</td>\n",
       "    </tr>\n",
       "  </tbody>\n",
       "</table>\n",
       "<p>21373 rows × 2 columns</p>\n",
       "</div>"
      ],
      "text/plain": [
       "                                                    text    labels\n",
       "0      Layin n bed with a headache  ughhhh...waitin o...      [25]\n",
       "1                    Funeral ceremony...gloomy friday...      [25]\n",
       "2      @dannycastillo We want to trade with someone w...      [27]\n",
       "3      I should be sleep, but im not! thinking about ...      [25]\n",
       "4                @charviray Charlene my love. I miss you      [25]\n",
       "...                                                  ...       ...\n",
       "21368                                     my tummy hurts  [25, 26]\n",
       "21369                        not feeling too great today      [25]\n",
       "21370                                            nothing      [27]\n",
       "21371  we're getting another puppy  ... not cool... r...  [25, 26]\n",
       "21372                                       work all day  [23, 27]\n",
       "\n",
       "[21373 rows x 2 columns]"
      ]
     },
     "execution_count": 80,
     "metadata": {},
     "output_type": "execute_result"
    }
   ],
   "source": [
    "# change labels to ids\n",
    "pash_cleaned['labels'] = pash_cleaned['labels'].apply(lambda labels_list: convert2id(go_label2id, labels_list))\n",
    "pash_cleaned"
   ]
  },
  {
   "cell_type": "code",
   "execution_count": 81,
   "metadata": {},
   "outputs": [
    {
     "data": {
      "text/plain": [
       "DatasetDict({\n",
       "    train: Dataset({\n",
       "        features: ['text', 'labels'],\n",
       "        num_rows: 17098\n",
       "    })\n",
       "    validation: Dataset({\n",
       "        features: ['text', 'labels'],\n",
       "        num_rows: 2137\n",
       "    })\n",
       "    test: Dataset({\n",
       "        features: ['text', 'labels'],\n",
       "        num_rows: 2138\n",
       "    })\n",
       "})"
      ]
     },
     "execution_count": 81,
     "metadata": {},
     "output_type": "execute_result"
    }
   ],
   "source": [
    "# split dataset and convert 2 hf df\n",
    "pash_hf = split_convert2hf_dataset(pash_cleaned, random_state=random_state)\n",
    "pash_hf"
   ]
  },
  {
   "cell_type": "code",
   "execution_count": 82,
   "metadata": {},
   "outputs": [
    {
     "data": {
      "application/vnd.jupyter.widget-view+json": {
       "model_id": "1fd2486618db4e24a5d50ecaea9d77c1",
       "version_major": 2,
       "version_minor": 0
      },
      "text/plain": [
       "Map:   0%|          | 0/17098 [00:00<?, ? examples/s]"
      ]
     },
     "metadata": {},
     "output_type": "display_data"
    },
    {
     "data": {
      "application/vnd.jupyter.widget-view+json": {
       "model_id": "bb3d7660f0fb40b4a892b195b69a95ca",
       "version_major": 2,
       "version_minor": 0
      },
      "text/plain": [
       "Map:   0%|          | 0/2137 [00:00<?, ? examples/s]"
      ]
     },
     "metadata": {},
     "output_type": "display_data"
    },
    {
     "data": {
      "application/vnd.jupyter.widget-view+json": {
       "model_id": "b89209f3bd2a44288bac669e4117e53b",
       "version_major": 2,
       "version_minor": 0
      },
      "text/plain": [
       "Map:   0%|          | 0/2138 [00:00<?, ? examples/s]"
      ]
     },
     "metadata": {},
     "output_type": "display_data"
    },
    {
     "data": {
      "text/plain": [
       "DatasetDict({\n",
       "    train: Dataset({\n",
       "        features: ['text', 'labels'],\n",
       "        num_rows: 17098\n",
       "    })\n",
       "    validation: Dataset({\n",
       "        features: ['text', 'labels'],\n",
       "        num_rows: 2137\n",
       "    })\n",
       "    test: Dataset({\n",
       "        features: ['text', 'labels'],\n",
       "        num_rows: 2138\n",
       "    })\n",
       "})"
      ]
     },
     "execution_count": 82,
     "metadata": {},
     "output_type": "execute_result"
    }
   ],
   "source": [
    "# OHE id labels\n",
    "pash_hf_ohe = pash_hf.map(lambda x: {\"labels\": ohe(x[\"labels\"], num_go_labels)})\n",
    "pash_hf_ohe"
   ]
  },
  {
   "cell_type": "code",
   "execution_count": 91,
   "metadata": {},
   "outputs": [
    {
     "data": {
      "text/plain": [
       "[25]"
      ]
     },
     "metadata": {},
     "output_type": "display_data"
    },
    {
     "data": {
      "text/plain": [
       "'[0, 0, 0, 0, 0, 0, 0, 0, 0, 0, 0, 0, 0, 0, 0, 0, 0, 0, 0, 0, 0, 0, 0, 0, 0, 1, 0, 0]'"
      ]
     },
     "execution_count": 91,
     "metadata": {},
     "output_type": "execute_result"
    }
   ],
   "source": [
    "display(pash_hf[\"train\"]['labels'][10])\n",
    "str(pash_hf_ohe['train']['labels'][10])"
   ]
  },
  {
   "cell_type": "code",
   "execution_count": 92,
   "metadata": {},
   "outputs": [
    {
     "data": {
      "application/vnd.jupyter.widget-view+json": {
       "model_id": "fd2512f2e3d242f891a84cb6e9bfb1cb",
       "version_major": 2,
       "version_minor": 0
      },
      "text/plain": [
       "Saving the dataset (0/1 shards):   0%|          | 0/17098 [00:00<?, ? examples/s]"
      ]
     },
     "metadata": {},
     "output_type": "display_data"
    },
    {
     "data": {
      "application/vnd.jupyter.widget-view+json": {
       "model_id": "8853cbac201543bc8985dfade66b2e41",
       "version_major": 2,
       "version_minor": 0
      },
      "text/plain": [
       "Saving the dataset (0/1 shards):   0%|          | 0/2137 [00:00<?, ? examples/s]"
      ]
     },
     "metadata": {},
     "output_type": "display_data"
    },
    {
     "data": {
      "application/vnd.jupyter.widget-view+json": {
       "model_id": "6cee274278fc419890439a500b76942e",
       "version_major": 2,
       "version_minor": 0
      },
      "text/plain": [
       "Saving the dataset (0/1 shards):   0%|          | 0/2138 [00:00<?, ? examples/s]"
      ]
     },
     "metadata": {},
     "output_type": "display_data"
    }
   ],
   "source": [
    "# save to disk\n",
    "file_name = 'pash_hf'\n",
    "file_path = f'./datasets/cleaned_hf/{file_name}'\n",
    "save_hf_dataset(file_path, pash_hf_ohe)"
   ]
  },
  {
   "cell_type": "markdown",
   "metadata": {},
   "source": [
    "### praveengovi"
   ]
  },
  {
   "cell_type": "code",
   "execution_count": 45,
   "metadata": {},
   "outputs": [
    {
     "data": {
      "text/plain": [
       "(                                                    text   labels\n",
       " 0                                i didnt feel humiliated  sadness\n",
       " 1      i can go from feeling so hopeless to so damned...  sadness\n",
       " 2       im grabbing a minute to post i feel greedy wrong    anger\n",
       " 3      i am ever feeling nostalgic about the fireplac...     love\n",
       " 4                                   i am feeling grouchy    anger\n",
       " ...                                                  ...      ...\n",
       " 15995  i just had a very brief time in the beanbag an...  sadness\n",
       " 15996  i am now turning and i feel pathetic that i am...  sadness\n",
       " 15997                     i feel strong and good overall      joy\n",
       " 15998  i feel like this was such a rude comment and i...    anger\n",
       " 15999  i know a lot but i feel so stupid because i ca...  sadness\n",
       " \n",
       " [16000 rows x 2 columns],\n",
       "                                                    text   labels\n",
       " 0     im feeling quite sad and sorry for myself but ...  sadness\n",
       " 1     i feel like i am still looking at a blank canv...  sadness\n",
       " 2                        i feel like a faithful servant     love\n",
       " 3                     i am just feeling cranky and blue    anger\n",
       " 4     i can have for a treat or if i am feeling festive      joy\n",
       " ...                                                 ...      ...\n",
       " 1995  im having ssa examination tomorrow in the morn...  sadness\n",
       " 1996  i constantly worry about their fight against n...      joy\n",
       " 1997  i feel its important to share this info for th...      joy\n",
       " 1998  i truly feel that if you are passionate enough...      joy\n",
       " 1999  i feel like i just wanna buy any cute make up ...      joy\n",
       " \n",
       " [2000 rows x 2 columns],\n",
       "                                                    text   labels\n",
       " 0     im feeling rather rotten so im not very ambiti...  sadness\n",
       " 1             im updating my blog because i feel shitty  sadness\n",
       " 2     i never make her separate from me because i do...  sadness\n",
       " 3     i left with my bouquet of red and yellow tulip...      joy\n",
       " 4       i was feeling a little vain when i did this one  sadness\n",
       " ...                                                 ...      ...\n",
       " 1995  i just keep feeling like someone is being unki...    anger\n",
       " 1996  im feeling a little cranky negative after this...    anger\n",
       " 1997  i feel that i am useful to my people and that ...      joy\n",
       " 1998  im feeling more comfortable with derby i feel ...      joy\n",
       " 1999  i feel all weird when i have to meet w people ...     fear\n",
       " \n",
       " [2000 rows x 2 columns])"
      ]
     },
     "execution_count": 45,
     "metadata": {},
     "output_type": "execute_result"
    }
   ],
   "source": [
    "prav_train = pd.read_csv('./datasets/praveengovi_emotion/train.txt', delimiter=';', header=None, names=['text', 'labels'])\n",
    "prav_val = pd.read_csv('./datasets/praveengovi_emotion/val.txt', delimiter=';', header=None, names=['text', 'labels'])\n",
    "prav_test = pd.read_csv('./datasets/praveengovi_emotion/test.txt', delimiter=';', header=None, names=['text', 'labels'])\n",
    "\n",
    "prav_train, prav_val, prav_test"
   ]
  },
  {
   "cell_type": "code",
   "execution_count": 56,
   "metadata": {},
   "outputs": [
    {
     "data": {
      "text/plain": [
       "['sadness', 'anger', 'love', 'surprise', 'fear', 'joy']"
      ]
     },
     "metadata": {},
     "output_type": "display_data"
    },
    {
     "name": "stdout",
     "output_type": "stream",
     "text": [
      "All emotion labels in prav dataset are in GoEmotions labels: True\n"
     ]
    }
   ],
   "source": [
    "# check if the labels in prav dataset is also in GoEmotions labels\n",
    "prav_labels = prav_train[\"labels\"].unique().tolist()\n",
    "display(prav_labels)\n",
    "\n",
    "print(\"All emotion labels in prav dataset are in GoEmotions labels:\", all([prav_label in go_labels for prav_label in prav_labels]))"
   ]
  },
  {
   "cell_type": "code",
   "execution_count": 47,
   "metadata": {},
   "outputs": [
    {
     "data": {
      "text/html": [
       "<div>\n",
       "<style scoped>\n",
       "    .dataframe tbody tr th:only-of-type {\n",
       "        vertical-align: middle;\n",
       "    }\n",
       "\n",
       "    .dataframe tbody tr th {\n",
       "        vertical-align: top;\n",
       "    }\n",
       "\n",
       "    .dataframe thead th {\n",
       "        text-align: right;\n",
       "    }\n",
       "</style>\n",
       "<table border=\"1\" class=\"dataframe\">\n",
       "  <thead>\n",
       "    <tr style=\"text-align: right;\">\n",
       "      <th></th>\n",
       "      <th>text</th>\n",
       "      <th>labels</th>\n",
       "    </tr>\n",
       "  </thead>\n",
       "  <tbody>\n",
       "    <tr>\n",
       "      <th>0</th>\n",
       "      <td>i didnt feel humiliated</td>\n",
       "      <td>[sadness]</td>\n",
       "    </tr>\n",
       "    <tr>\n",
       "      <th>1</th>\n",
       "      <td>i can go from feeling so hopeless to so damned...</td>\n",
       "      <td>[sadness]</td>\n",
       "    </tr>\n",
       "    <tr>\n",
       "      <th>2</th>\n",
       "      <td>im grabbing a minute to post i feel greedy wrong</td>\n",
       "      <td>[anger]</td>\n",
       "    </tr>\n",
       "    <tr>\n",
       "      <th>3</th>\n",
       "      <td>i am ever feeling nostalgic about the fireplac...</td>\n",
       "      <td>[love]</td>\n",
       "    </tr>\n",
       "    <tr>\n",
       "      <th>4</th>\n",
       "      <td>i am feeling grouchy</td>\n",
       "      <td>[anger]</td>\n",
       "    </tr>\n",
       "    <tr>\n",
       "      <th>...</th>\n",
       "      <td>...</td>\n",
       "      <td>...</td>\n",
       "    </tr>\n",
       "    <tr>\n",
       "      <th>15964</th>\n",
       "      <td>i was so stubborn and that it took you getting...</td>\n",
       "      <td>[joy, love]</td>\n",
       "    </tr>\n",
       "    <tr>\n",
       "      <th>15965</th>\n",
       "      <td>i will feel as though i am accepted by as well...</td>\n",
       "      <td>[joy, love]</td>\n",
       "    </tr>\n",
       "    <tr>\n",
       "      <th>15966</th>\n",
       "      <td>i write these words i feel sweet baby kicks fr...</td>\n",
       "      <td>[joy, love]</td>\n",
       "    </tr>\n",
       "    <tr>\n",
       "      <th>15967</th>\n",
       "      <td>im still not sure why reilly feels the need to...</td>\n",
       "      <td>[fear, surprise]</td>\n",
       "    </tr>\n",
       "    <tr>\n",
       "      <th>15968</th>\n",
       "      <td>ive also made it with both sugar measurements ...</td>\n",
       "      <td>[joy, love]</td>\n",
       "    </tr>\n",
       "  </tbody>\n",
       "</table>\n",
       "<p>15969 rows × 2 columns</p>\n",
       "</div>"
      ],
      "text/plain": [
       "                                                    text            labels\n",
       "0                                i didnt feel humiliated         [sadness]\n",
       "1      i can go from feeling so hopeless to so damned...         [sadness]\n",
       "2       im grabbing a minute to post i feel greedy wrong           [anger]\n",
       "3      i am ever feeling nostalgic about the fireplac...            [love]\n",
       "4                                   i am feeling grouchy           [anger]\n",
       "...                                                  ...               ...\n",
       "15964  i was so stubborn and that it took you getting...       [joy, love]\n",
       "15965  i will feel as though i am accepted by as well...       [joy, love]\n",
       "15966  i write these words i feel sweet baby kicks fr...       [joy, love]\n",
       "15967  im still not sure why reilly feels the need to...  [fear, surprise]\n",
       "15968  ive also made it with both sugar measurements ...       [joy, love]\n",
       "\n",
       "[15969 rows x 2 columns]"
      ]
     },
     "execution_count": 47,
     "metadata": {},
     "output_type": "execute_result"
    }
   ],
   "source": [
    "prav_train_clean = to_multilabels_df(prav_train)\n",
    "prav_val_clean = to_multilabels_df(prav_val)\n",
    "prav_test_clean = to_multilabels_df(prav_test)\n",
    "\n",
    "prav_train_clean"
   ]
  },
  {
   "cell_type": "code",
   "execution_count": 48,
   "metadata": {},
   "outputs": [],
   "source": [
    "# change labels to numbers/ids\n",
    "prav_train_clean['labels'] = prav_train_clean['labels'].apply(lambda labels_list: convert2id(go_label2id, labels_list))\n",
    "prav_val_clean['labels'] = prav_val_clean['labels'].apply(lambda labels_list: convert2id(go_label2id, labels_list))\n",
    "prav_test_clean['labels'] = prav_test_clean['labels'].apply(lambda labels_list: convert2id(go_label2id, labels_list))"
   ]
  },
  {
   "cell_type": "code",
   "execution_count": 49,
   "metadata": {},
   "outputs": [
    {
     "data": {
      "text/html": [
       "<div>\n",
       "<style scoped>\n",
       "    .dataframe tbody tr th:only-of-type {\n",
       "        vertical-align: middle;\n",
       "    }\n",
       "\n",
       "    .dataframe tbody tr th {\n",
       "        vertical-align: top;\n",
       "    }\n",
       "\n",
       "    .dataframe thead th {\n",
       "        text-align: right;\n",
       "    }\n",
       "</style>\n",
       "<table border=\"1\" class=\"dataframe\">\n",
       "  <thead>\n",
       "    <tr style=\"text-align: right;\">\n",
       "      <th></th>\n",
       "      <th>text</th>\n",
       "      <th>labels</th>\n",
       "    </tr>\n",
       "  </thead>\n",
       "  <tbody>\n",
       "    <tr>\n",
       "      <th>0</th>\n",
       "      <td>i didnt feel humiliated</td>\n",
       "      <td>[25]</td>\n",
       "    </tr>\n",
       "    <tr>\n",
       "      <th>1</th>\n",
       "      <td>i can go from feeling so hopeless to so damned...</td>\n",
       "      <td>[25]</td>\n",
       "    </tr>\n",
       "    <tr>\n",
       "      <th>2</th>\n",
       "      <td>im grabbing a minute to post i feel greedy wrong</td>\n",
       "      <td>[2]</td>\n",
       "    </tr>\n",
       "    <tr>\n",
       "      <th>3</th>\n",
       "      <td>i am ever feeling nostalgic about the fireplac...</td>\n",
       "      <td>[18]</td>\n",
       "    </tr>\n",
       "    <tr>\n",
       "      <th>4</th>\n",
       "      <td>i am feeling grouchy</td>\n",
       "      <td>[2]</td>\n",
       "    </tr>\n",
       "    <tr>\n",
       "      <th>...</th>\n",
       "      <td>...</td>\n",
       "      <td>...</td>\n",
       "    </tr>\n",
       "    <tr>\n",
       "      <th>15964</th>\n",
       "      <td>i was so stubborn and that it took you getting...</td>\n",
       "      <td>[17, 18]</td>\n",
       "    </tr>\n",
       "    <tr>\n",
       "      <th>15965</th>\n",
       "      <td>i will feel as though i am accepted by as well...</td>\n",
       "      <td>[17, 18]</td>\n",
       "    </tr>\n",
       "    <tr>\n",
       "      <th>15966</th>\n",
       "      <td>i write these words i feel sweet baby kicks fr...</td>\n",
       "      <td>[17, 18]</td>\n",
       "    </tr>\n",
       "    <tr>\n",
       "      <th>15967</th>\n",
       "      <td>im still not sure why reilly feels the need to...</td>\n",
       "      <td>[14, 26]</td>\n",
       "    </tr>\n",
       "    <tr>\n",
       "      <th>15968</th>\n",
       "      <td>ive also made it with both sugar measurements ...</td>\n",
       "      <td>[17, 18]</td>\n",
       "    </tr>\n",
       "  </tbody>\n",
       "</table>\n",
       "<p>15969 rows × 2 columns</p>\n",
       "</div>"
      ],
      "text/plain": [
       "                                                    text    labels\n",
       "0                                i didnt feel humiliated      [25]\n",
       "1      i can go from feeling so hopeless to so damned...      [25]\n",
       "2       im grabbing a minute to post i feel greedy wrong       [2]\n",
       "3      i am ever feeling nostalgic about the fireplac...      [18]\n",
       "4                                   i am feeling grouchy       [2]\n",
       "...                                                  ...       ...\n",
       "15964  i was so stubborn and that it took you getting...  [17, 18]\n",
       "15965  i will feel as though i am accepted by as well...  [17, 18]\n",
       "15966  i write these words i feel sweet baby kicks fr...  [17, 18]\n",
       "15967  im still not sure why reilly feels the need to...  [14, 26]\n",
       "15968  ive also made it with both sugar measurements ...  [17, 18]\n",
       "\n",
       "[15969 rows x 2 columns]"
      ]
     },
     "execution_count": 49,
     "metadata": {},
     "output_type": "execute_result"
    }
   ],
   "source": [
    "prav_train_clean"
   ]
  },
  {
   "cell_type": "code",
   "execution_count": 50,
   "metadata": {},
   "outputs": [
    {
     "data": {
      "text/plain": [
       "DatasetDict({\n",
       "    train: Dataset({\n",
       "        features: ['text', 'labels'],\n",
       "        num_rows: 15969\n",
       "    })\n",
       "    validation: Dataset({\n",
       "        features: ['text', 'labels'],\n",
       "        num_rows: 1998\n",
       "    })\n",
       "    test: Dataset({\n",
       "        features: ['text', 'labels'],\n",
       "        num_rows: 2000\n",
       "    })\n",
       "})"
      ]
     },
     "execution_count": 50,
     "metadata": {},
     "output_type": "execute_result"
    }
   ],
   "source": [
    "prav_hf = split_convert2hf_dataset(prav_train_clean, prav_val_clean, prav_test_clean, random_state)\n",
    "prav_hf"
   ]
  },
  {
   "cell_type": "code",
   "execution_count": 51,
   "metadata": {},
   "outputs": [
    {
     "data": {
      "application/vnd.jupyter.widget-view+json": {
       "model_id": "3f605e8233044da6a5f9b75666a38689",
       "version_major": 2,
       "version_minor": 0
      },
      "text/plain": [
       "Map:   0%|          | 0/15969 [00:00<?, ? examples/s]"
      ]
     },
     "metadata": {},
     "output_type": "display_data"
    },
    {
     "data": {
      "application/vnd.jupyter.widget-view+json": {
       "model_id": "9df96445c7604c0abdec4a5fb29b9791",
       "version_major": 2,
       "version_minor": 0
      },
      "text/plain": [
       "Map:   0%|          | 0/1998 [00:00<?, ? examples/s]"
      ]
     },
     "metadata": {},
     "output_type": "display_data"
    },
    {
     "data": {
      "application/vnd.jupyter.widget-view+json": {
       "model_id": "6b2c6d530307416f80fc915da079bdc8",
       "version_major": 2,
       "version_minor": 0
      },
      "text/plain": [
       "Map:   0%|          | 0/2000 [00:00<?, ? examples/s]"
      ]
     },
     "metadata": {},
     "output_type": "display_data"
    },
    {
     "data": {
      "text/plain": [
       "DatasetDict({\n",
       "    train: Dataset({\n",
       "        features: ['text', 'labels'],\n",
       "        num_rows: 15969\n",
       "    })\n",
       "    validation: Dataset({\n",
       "        features: ['text', 'labels'],\n",
       "        num_rows: 1998\n",
       "    })\n",
       "    test: Dataset({\n",
       "        features: ['text', 'labels'],\n",
       "        num_rows: 2000\n",
       "    })\n",
       "})"
      ]
     },
     "execution_count": 51,
     "metadata": {},
     "output_type": "execute_result"
    }
   ],
   "source": [
    "# change labels to ohe\n",
    "prav_hf_ohe = prav_hf.map(lambda x: {\"labels\": ohe(x[\"labels\"], num_go_labels)})\n",
    "prav_hf_ohe"
   ]
  },
  {
   "cell_type": "code",
   "execution_count": 61,
   "metadata": {},
   "outputs": [
    {
     "data": {
      "text/plain": [
       "[14, 26]"
      ]
     },
     "metadata": {},
     "output_type": "display_data"
    },
    {
     "data": {
      "text/plain": [
       "'[0, 0, 0, 0, 0, 0, 0, 0, 0, 0, 0, 0, 0, 0, 1, 0, 0, 0, 0, 0, 0, 0, 0, 0, 0, 0, 1, 0]'"
      ]
     },
     "execution_count": 61,
     "metadata": {},
     "output_type": "execute_result"
    }
   ],
   "source": [
    "display(prav_hf['train'][15967]['labels'])\n",
    "str(prav_hf_ohe['train'][15967]['labels'])"
   ]
  },
  {
   "cell_type": "code",
   "execution_count": 52,
   "metadata": {},
   "outputs": [
    {
     "name": "stdout",
     "output_type": "stream",
     "text": [
      "Dataset already exists.\n"
     ]
    }
   ],
   "source": [
    "# save to disk\n",
    "file_name = 'prav_hf'\n",
    "file_path = f'./datasets/cleaned_hf/{file_name}'\n",
    "save_hf_dataset(file_path, prav_hf_ohe)"
   ]
  },
  {
   "cell_type": "markdown",
   "metadata": {},
   "source": [
    "## Combine HF Datasets"
   ]
  },
  {
   "cell_type": "markdown",
   "metadata": {},
   "source": [
    "### Load processed hf datasets"
   ]
  },
  {
   "cell_type": "code",
   "execution_count": 156,
   "metadata": {},
   "outputs": [],
   "source": [
    "go_hf_processed = load_from_disk('./datasets/cleaned_hf/goEmotions_cleaned')\n",
    "pash_hf_processed = load_from_disk('./datasets/cleaned_hf/pash_hf')\n",
    "prav_hf_processed = load_from_disk('./datasets/cleaned_hf/prav_hf')\n",
    "semEval_hf_processed = load_from_disk('./datasets/cleaned_hf/semEval_hf')"
   ]
  },
  {
   "cell_type": "markdown",
   "metadata": {},
   "source": [
    "### Merge hf datasets"
   ]
  },
  {
   "cell_type": "code",
   "execution_count": 158,
   "metadata": {},
   "outputs": [],
   "source": [
    "from datasets import concatenate_datasets, Features, Sequence, Value"
   ]
  },
  {
   "cell_type": "code",
   "execution_count": 159,
   "metadata": {},
   "outputs": [
    {
     "data": {
      "text/plain": [
       "{'text': Value(dtype='string', id=None),\n",
       " 'labels': Sequence(feature=ClassLabel(names=['admiration', 'amusement', 'anger', 'annoyance', 'approval', 'caring', 'confusion', 'curiosity', 'desire', 'disappointment', 'disapproval', 'disgust', 'embarrassment', 'excitement', 'fear', 'gratitude', 'grief', 'joy', 'love', 'nervousness', 'optimism', 'pride', 'realization', 'relief', 'remorse', 'sadness', 'surprise', 'neutral'], id=None), length=-1, id=None)}"
      ]
     },
     "execution_count": 159,
     "metadata": {},
     "output_type": "execute_result"
    }
   ],
   "source": [
    "go_hf_processed['train'].features"
   ]
  },
  {
   "cell_type": "code",
   "execution_count": 160,
   "metadata": {},
   "outputs": [
    {
     "data": {
      "application/vnd.jupyter.widget-view+json": {
       "model_id": "349d103ea381444eba5df8fd399eb1a1",
       "version_major": 2,
       "version_minor": 0
      },
      "text/plain": [
       "Casting the dataset:   0%|          | 0/5426 [00:00<?, ? examples/s]"
      ]
     },
     "metadata": {},
     "output_type": "display_data"
    },
    {
     "data": {
      "application/vnd.jupyter.widget-view+json": {
       "model_id": "ddea20be0b41452084d61e8cd0405a6f",
       "version_major": 2,
       "version_minor": 0
      },
      "text/plain": [
       "Casting the dataset:   0%|          | 0/5427 [00:00<?, ? examples/s]"
      ]
     },
     "metadata": {},
     "output_type": "display_data"
    }
   ],
   "source": [
    "# Need to have the same key labels; change goemotions ClassLabel to Sequence(feature=Value(dtype='int64'))\n",
    "new_features = Features({\n",
    "\"text\": go_hf_processed['train'].features[\"text\"],  # Keep the text \n",
    "\"labels\": Sequence(Value(dtype=\"int64\")) # change\n",
    "})\n",
    "\n",
    "go_hf_processed = go_hf_processed.cast(new_features)"
   ]
  },
  {
   "cell_type": "code",
   "execution_count": 161,
   "metadata": {},
   "outputs": [
    {
     "name": "stdout",
     "output_type": "stream",
     "text": [
      "{'text': Value(dtype='string', id=None), 'labels': Sequence(feature=Value(dtype='int64', id=None), length=-1, id=None)}\n",
      "{'text': Value(dtype='string', id=None), 'labels': Sequence(feature=Value(dtype='int64', id=None), length=-1, id=None)}\n",
      "{'text': Value(dtype='string', id=None), 'labels': Sequence(feature=Value(dtype='int64', id=None), length=-1, id=None)}\n"
     ]
    }
   ],
   "source": [
    "print(go_hf_processed['train'].features)\n",
    "print(go_hf_processed['validation'].features)\n",
    "print(go_hf_processed['test'].features)"
   ]
  },
  {
   "cell_type": "code",
   "execution_count": 168,
   "metadata": {},
   "outputs": [],
   "source": [
    "# train\n",
    "merged_train = concatenate_datasets([go_hf_processed['train'], prav_hf_processed['train'], pash_hf_processed['train'], semEval_hf_processed['train']])\n",
    "# validation\n",
    "merged_val = concatenate_datasets([go_hf_processed['validation'], prav_hf_processed['validation'], pash_hf_processed['validation'], semEval_hf_processed['validation']])\n",
    "# test\n",
    "merged_test = concatenate_datasets([go_hf_processed['test'], prav_hf_processed['test'], pash_hf_processed['test'], semEval_hf_processed['test']])"
   ]
  },
  {
   "cell_type": "code",
   "execution_count": 171,
   "metadata": {},
   "outputs": [
    {
     "name": "stdout",
     "output_type": "stream",
     "text": [
      "True\n",
      "True\n",
      "True\n"
     ]
    }
   ],
   "source": [
    "# check if adding individual dataset length == merged length\n",
    "print(len(go_hf_processed['train']) + len(prav_hf_processed['train']) + len(pash_hf_processed['train']) + len(semEval_hf_processed['train']) == len(merged_train))\n",
    "print(len(go_hf_processed['validation']) + len(prav_hf_processed['validation']) + len(pash_hf_processed['validation']) + len(semEval_hf_processed['validation']) == len(merged_val))\n",
    "print(len(go_hf_processed['test']) + len(prav_hf_processed['test']) + len(pash_hf_processed['test']) + len(semEval_hf_processed['test']) == len(merged_test))"
   ]
  },
  {
   "cell_type": "code",
   "execution_count": 172,
   "metadata": {},
   "outputs": [
    {
     "data": {
      "text/plain": [
       "DatasetDict({\n",
       "    train: Dataset({\n",
       "        features: ['text', 'labels'],\n",
       "        num_rows: 83016\n",
       "    })\n",
       "    validation: Dataset({\n",
       "        features: ['text', 'labels'],\n",
       "        num_rows: 10426\n",
       "    })\n",
       "    test: Dataset({\n",
       "        features: ['text', 'labels'],\n",
       "        num_rows: 12721\n",
       "    })\n",
       "})"
      ]
     },
     "execution_count": 172,
     "metadata": {},
     "output_type": "execute_result"
    }
   ],
   "source": [
    "# Combine train, validation, and test splits into a single DatasetDict\n",
    "merged_dataset = DatasetDict({\n",
    "    \"train\": merged_train,\n",
    "    \"validation\": merged_val,\n",
    "    \"test\": merged_test\n",
    "})\n",
    "merged_dataset"
   ]
  },
  {
   "cell_type": "code",
   "execution_count": 173,
   "metadata": {},
   "outputs": [
    {
     "data": {
      "application/vnd.jupyter.widget-view+json": {
       "model_id": "0267a5ac79b3401c875dd044eebed2d9",
       "version_major": 2,
       "version_minor": 0
      },
      "text/plain": [
       "Saving the dataset (0/1 shards):   0%|          | 0/83016 [00:00<?, ? examples/s]"
      ]
     },
     "metadata": {},
     "output_type": "display_data"
    },
    {
     "data": {
      "application/vnd.jupyter.widget-view+json": {
       "model_id": "63a4c25de6894cf79a6a9c75790ab512",
       "version_major": 2,
       "version_minor": 0
      },
      "text/plain": [
       "Saving the dataset (0/1 shards):   0%|          | 0/10426 [00:00<?, ? examples/s]"
      ]
     },
     "metadata": {},
     "output_type": "display_data"
    },
    {
     "data": {
      "application/vnd.jupyter.widget-view+json": {
       "model_id": "6f554363bbc64ec2aa25a3042eef5d53",
       "version_major": 2,
       "version_minor": 0
      },
      "text/plain": [
       "Saving the dataset (0/1 shards):   0%|          | 0/12721 [00:00<?, ? examples/s]"
      ]
     },
     "metadata": {},
     "output_type": "display_data"
    }
   ],
   "source": [
    "# save the new merged dataset to disk\n",
    "file_name = 'merged_hf'\n",
    "file_path = f'./datasets/cleaned_hf/{file_name}'\n",
    "save_hf_dataset(file_path, merged_dataset)"
   ]
  },
  {
   "cell_type": "markdown",
   "metadata": {},
   "source": [
    "## Data Exploration"
   ]
  },
  {
   "cell_type": "markdown",
   "metadata": {},
   "source": [
    "https://research.google/blog/goemotions-a-dataset-for-fine-grained-emotion-classification/"
   ]
  },
  {
   "attachments": {
    "image.png": {
     "image/png": "[encoded data removed]"
    }
   },
   "cell_type": "markdown",
   "metadata": {},
   "source": [
    "![image.png](attachment:image.png)"
   ]
  },
  {
   "attachments": {
    "image.png": {
     "image/png": "[encoded data removed]"
    }
   },
   "cell_type": "markdown",
   "metadata": {},
   "source": [
    "![image.png](attachment:image.png)"
   ]
  },
  {
   "cell_type": "code",
   "execution_count": 174,
   "metadata": {},
   "outputs": [],
   "source": [
    "dataset = load_from_disk(\"./datasets/cleaned_hf/merged_hf\")"
   ]
  },
  {
   "cell_type": "code",
   "execution_count": 175,
   "metadata": {},
   "outputs": [
    {
     "data": {
      "text/plain": [
       "DatasetDict({\n",
       "    train: Dataset({\n",
       "        features: ['text', 'labels'],\n",
       "        num_rows: 83016\n",
       "    })\n",
       "    validation: Dataset({\n",
       "        features: ['text', 'labels'],\n",
       "        num_rows: 10426\n",
       "    })\n",
       "    test: Dataset({\n",
       "        features: ['text', 'labels'],\n",
       "        num_rows: 12721\n",
       "    })\n",
       "})"
      ]
     },
     "execution_count": 175,
     "metadata": {},
     "output_type": "execute_result"
    }
   ],
   "source": [
    "dataset"
   ]
  },
  {
   "cell_type": "code",
   "execution_count": 176,
   "metadata": {},
   "outputs": [
    {
     "data": {
      "text/plain": [
       "{'text': \"My favourite food is anything I didn't have to cook myself.\",\n",
       " 'labels': [0,\n",
       "  0,\n",
       "  0,\n",
       "  0,\n",
       "  0,\n",
       "  0,\n",
       "  0,\n",
       "  0,\n",
       "  0,\n",
       "  0,\n",
       "  0,\n",
       "  0,\n",
       "  0,\n",
       "  0,\n",
       "  0,\n",
       "  0,\n",
       "  0,\n",
       "  0,\n",
       "  0,\n",
       "  0,\n",
       "  0,\n",
       "  0,\n",
       "  0,\n",
       "  0,\n",
       "  0,\n",
       "  0,\n",
       "  0,\n",
       "  1]}"
      ]
     },
     "execution_count": 176,
     "metadata": {},
     "output_type": "execute_result"
    }
   ],
   "source": [
    "dataset['train'][0]"
   ]
  },
  {
   "cell_type": "code",
   "execution_count": null,
   "metadata": {},
   "outputs": [
    {
     "data": {
      "text/plain": [
       "Value(dtype='int64', id=None)"
      ]
     },
     "execution_count": 178,
     "metadata": {},
     "output_type": "execute_result"
    }
   ],
   "source": [
    "# labels\n",
    "dataset['train'].features['labels'].feature.names"
   ]
  },
  {
   "cell_type": "markdown",
   "metadata": {},
   "source": [
    "# Display frequency of each emotion"
   ]
  },
  {
   "cell_type": "code",
   "execution_count": null,
   "metadata": {},
   "outputs": [],
   "source": [
    "import pandas as pd\n",
    "import matplotlib.pyplot as plt\n",
    "from collections import Counter"
   ]
  },
  {
   "cell_type": "code",
   "execution_count": 181,
   "metadata": {},
   "outputs": [
    {
     "data": {
      "text/plain": [
       "106163"
      ]
     },
     "metadata": {},
     "output_type": "display_data"
    },
    {
     "data": {
      "text/html": [
       "<div>\n",
       "<style scoped>\n",
       "    .dataframe tbody tr th:only-of-type {\n",
       "        vertical-align: middle;\n",
       "    }\n",
       "\n",
       "    .dataframe tbody tr th {\n",
       "        vertical-align: top;\n",
       "    }\n",
       "\n",
       "    .dataframe thead th {\n",
       "        text-align: right;\n",
       "    }\n",
       "</style>\n",
       "<table border=\"1\" class=\"dataframe\">\n",
       "  <thead>\n",
       "    <tr style=\"text-align: right;\">\n",
       "      <th></th>\n",
       "      <th>text</th>\n",
       "      <th>labels</th>\n",
       "    </tr>\n",
       "  </thead>\n",
       "  <tbody>\n",
       "    <tr>\n",
       "      <th>0</th>\n",
       "      <td>My favourite food is anything I didn't have to...</td>\n",
       "      <td>[0, 0, 0, 0, 0, 0, 0, 0, 0, 0, 0, 0, 0, 0, 0, ...</td>\n",
       "    </tr>\n",
       "    <tr>\n",
       "      <th>1</th>\n",
       "      <td>Now if he does off himself, everyone will thin...</td>\n",
       "      <td>[0, 0, 0, 0, 0, 0, 0, 0, 0, 0, 0, 0, 0, 0, 0, ...</td>\n",
       "    </tr>\n",
       "    <tr>\n",
       "      <th>2</th>\n",
       "      <td>WHY THE FUCK IS BAYLESS ISOING</td>\n",
       "      <td>[0, 0, 1, 0, 0, 0, 0, 0, 0, 0, 0, 0, 0, 0, 0, ...</td>\n",
       "    </tr>\n",
       "    <tr>\n",
       "      <th>3</th>\n",
       "      <td>To make her feel threatened</td>\n",
       "      <td>[0, 0, 0, 0, 0, 0, 0, 0, 0, 0, 0, 0, 0, 0, 1, ...</td>\n",
       "    </tr>\n",
       "    <tr>\n",
       "      <th>4</th>\n",
       "      <td>Dirty Southern Wankers</td>\n",
       "      <td>[0, 0, 0, 1, 0, 0, 0, 0, 0, 0, 0, 0, 0, 0, 0, ...</td>\n",
       "    </tr>\n",
       "  </tbody>\n",
       "</table>\n",
       "</div>"
      ],
      "text/plain": [
       "                                                text  \\\n",
       "0  My favourite food is anything I didn't have to...   \n",
       "1  Now if he does off himself, everyone will thin...   \n",
       "2                     WHY THE FUCK IS BAYLESS ISOING   \n",
       "3                        To make her feel threatened   \n",
       "4                             Dirty Southern Wankers   \n",
       "\n",
       "                                              labels  \n",
       "0  [0, 0, 0, 0, 0, 0, 0, 0, 0, 0, 0, 0, 0, 0, 0, ...  \n",
       "1  [0, 0, 0, 0, 0, 0, 0, 0, 0, 0, 0, 0, 0, 0, 0, ...  \n",
       "2  [0, 0, 1, 0, 0, 0, 0, 0, 0, 0, 0, 0, 0, 0, 0, ...  \n",
       "3  [0, 0, 0, 0, 0, 0, 0, 0, 0, 0, 0, 0, 0, 0, 1, ...  \n",
       "4  [0, 0, 0, 1, 0, 0, 0, 0, 0, 0, 0, 0, 0, 0, 0, ...  "
      ]
     },
     "execution_count": 181,
     "metadata": {},
     "output_type": "execute_result"
    }
   ],
   "source": [
    "# combine train/validation/test\n",
    "train_df = dataset['train'].to_pandas()\n",
    "val_df = dataset['validation'].to_pandas()\n",
    "test_df = dataset['test'].to_pandas()\n",
    "\n",
    "combined_df = pd.concat([train_df, val_df, test_df], ignore_index=True)\n",
    "display(len(combined_df))\n",
    "combined_df.head()"
   ]
  },
  {
   "cell_type": "code",
   "execution_count": 182,
   "metadata": {},
   "outputs": [
    {
     "data": {
      "text/plain": [
       "(83016, 2)"
      ]
     },
     "execution_count": 182,
     "metadata": {},
     "output_type": "execute_result"
    }
   ],
   "source": [
    "train_df.shape"
   ]
  },
  {
   "cell_type": "code",
   "execution_count": 183,
   "metadata": {},
   "outputs": [
    {
     "data": {
      "text/plain": [
       "(10426, 2)"
      ]
     },
     "execution_count": 183,
     "metadata": {},
     "output_type": "execute_result"
    }
   ],
   "source": [
    "val_df.shape"
   ]
  },
  {
   "cell_type": "code",
   "execution_count": 184,
   "metadata": {},
   "outputs": [
    {
     "data": {
      "text/plain": [
       "(12721, 2)"
      ]
     },
     "execution_count": 184,
     "metadata": {},
     "output_type": "execute_result"
    }
   ],
   "source": [
    "test_df.shape"
   ]
  },
  {
   "cell_type": "code",
   "execution_count": 185,
   "metadata": {},
   "outputs": [
    {
     "data": {
      "text/plain": [
       "106163"
      ]
     },
     "execution_count": 185,
     "metadata": {},
     "output_type": "execute_result"
    }
   ],
   "source": [
    "len(train_df) + len(val_df) + len(test_df)"
   ]
  },
  {
   "cell_type": "code",
   "execution_count": 188,
   "metadata": {},
   "outputs": [
    {
     "data": {
      "text/plain": [
       "array([ 5122,  2895,  8739,  3093,  3687,  1375,  1673,  2723,   801,\n",
       "        1583,  2581,  5033,   375,  1052,  4985,  3372,    96, 12864,\n",
       "        9366,   208,  5410,   142,  1382,  1706,   669, 15815,  4802,\n",
       "       26389], dtype=int64)"
      ]
     },
     "execution_count": 188,
     "metadata": {},
     "output_type": "execute_result"
    }
   ],
   "source": [
    "freq = np.sum(combined_df['labels'], axis=0)\n",
    "freq"
   ]
  },
  {
   "cell_type": "code",
   "execution_count": 196,
   "metadata": {},
   "outputs": [
    {
     "data": {
      "text/plain": [
       "{'admiration': 5122,\n",
       " 'amusement': 2895,\n",
       " 'anger': 8739,\n",
       " 'annoyance': 3093,\n",
       " 'approval': 3687,\n",
       " 'caring': 1375,\n",
       " 'confusion': 1673,\n",
       " 'curiosity': 2723,\n",
       " 'desire': 801,\n",
       " 'disappointment': 1583,\n",
       " 'disapproval': 2581,\n",
       " 'disgust': 5033,\n",
       " 'embarrassment': 375,\n",
       " 'excitement': 1052,\n",
       " 'fear': 4985,\n",
       " 'gratitude': 3372,\n",
       " 'grief': 96,\n",
       " 'joy': 12864,\n",
       " 'love': 9366,\n",
       " 'nervousness': 208,\n",
       " 'optimism': 5410,\n",
       " 'pride': 142,\n",
       " 'realization': 1382,\n",
       " 'relief': 1706,\n",
       " 'remorse': 669,\n",
       " 'sadness': 15815,\n",
       " 'surprise': 4802,\n",
       " 'neutral': 26389}"
      ]
     },
     "execution_count": 196,
     "metadata": {},
     "output_type": "execute_result"
    }
   ],
   "source": [
    "freq_dict = {}\n",
    "for i, emo in enumerate(go_labels):\n",
    "    freq_dict[emo] = freq[i]\n",
    "\n",
    "freq_dict\n"
   ]
  },
  {
   "cell_type": "code",
   "execution_count": 202,
   "metadata": {},
   "outputs": [
    {
     "data": {
      "text/plain": [
       "{'neutral': 26389,\n",
       " 'sadness': 15815,\n",
       " 'joy': 12864,\n",
       " 'love': 9366,\n",
       " 'anger': 8739,\n",
       " 'optimism': 5410,\n",
       " 'admiration': 5122,\n",
       " 'disgust': 5033,\n",
       " 'fear': 4985,\n",
       " 'surprise': 4802,\n",
       " 'approval': 3687,\n",
       " 'gratitude': 3372,\n",
       " 'annoyance': 3093,\n",
       " 'amusement': 2895,\n",
       " 'curiosity': 2723,\n",
       " 'disapproval': 2581,\n",
       " 'relief': 1706,\n",
       " 'confusion': 1673,\n",
       " 'disappointment': 1583,\n",
       " 'realization': 1382,\n",
       " 'caring': 1375,\n",
       " 'excitement': 1052,\n",
       " 'desire': 801,\n",
       " 'remorse': 669,\n",
       " 'embarrassment': 375,\n",
       " 'nervousness': 208,\n",
       " 'pride': 142,\n",
       " 'grief': 96}"
      ]
     },
     "execution_count": 202,
     "metadata": {},
     "output_type": "execute_result"
    }
   ],
   "source": [
    "# order in desc order\n",
    "desc_freq = dict(sorted(freq_dict.items(), key=lambda item: item[1], reverse=True))\n",
    "desc_freq"
   ]
  },
  {
   "cell_type": "code",
   "execution_count": 205,
   "metadata": {},
   "outputs": [
    {
     "data": {
      "image/png": "[encoded data removed]",
      "text/plain": [
       "<Figure size 1200x600 with 1 Axes>"
      ]
     },
     "metadata": {},
     "output_type": "display_data"
    }
   ],
   "source": [
    "# Plotting the frequency graph\n",
    "plt.figure(figsize=(12, 6))\n",
    "bars = plt.bar(desc_freq.keys(), desc_freq.values(), color='skyblue')\n",
    "plt.xlabel('Emotions')\n",
    "plt.ylabel('Frequency')\n",
    "plt.title('Frequency of Emotions (Train + Val + Test)')\n",
    "plt.xticks(rotation=45, ha='right')\n",
    "# plt.tight_layout()\n",
    "\n",
    "# Add frequency numbers on top of the bars\n",
    "for bar in bars:\n",
    "    yval = bar.get_height()\n",
    "    plt.text(bar.get_x() + bar.get_width()/2, yval + 0.5, int(yval), ha='center', va='bottom', fontsize=8)\n",
    "\n",
    "plt.show()"
   ]
  },
  {
   "cell_type": "code",
   "execution_count": 230,
   "metadata": {},
   "outputs": [
    {
     "name": "stdout",
     "output_type": "stream",
     "text": [
      "neutral has 274.8854166666667 times more samples than grief\n"
     ]
    }
   ],
   "source": [
    "print(f\"{list(desc_freq.keys())[0]} has {26389 / 96} times more samples than {list(desc_freq.keys())[-1]}\")"
   ]
  },
  {
   "cell_type": "markdown",
   "metadata": {},
   "source": [
    "Original GoEmotions dataset freq graph"
   ]
  },
  {
   "cell_type": "code",
   "execution_count": 215,
   "metadata": {},
   "outputs": [
    {
     "data": {
      "text/plain": [
       "DatasetDict({\n",
       "    train: Dataset({\n",
       "        features: ['text', 'labels', 'id'],\n",
       "        num_rows: 43410\n",
       "    })\n",
       "    validation: Dataset({\n",
       "        features: ['text', 'labels', 'id'],\n",
       "        num_rows: 5426\n",
       "    })\n",
       "    test: Dataset({\n",
       "        features: ['text', 'labels', 'id'],\n",
       "        num_rows: 5427\n",
       "    })\n",
       "})"
      ]
     },
     "execution_count": 215,
     "metadata": {},
     "output_type": "execute_result"
    }
   ],
   "source": [
    "goEmotions = load_dataset(\"google-research-datasets/go_emotions\")\n",
    "goEmotions"
   ]
  },
  {
   "cell_type": "code",
   "execution_count": 216,
   "metadata": {},
   "outputs": [
    {
     "data": {
      "text/plain": [
       "54263"
      ]
     },
     "metadata": {},
     "output_type": "display_data"
    },
    {
     "data": {
      "text/html": [
       "<div>\n",
       "<style scoped>\n",
       "    .dataframe tbody tr th:only-of-type {\n",
       "        vertical-align: middle;\n",
       "    }\n",
       "\n",
       "    .dataframe tbody tr th {\n",
       "        vertical-align: top;\n",
       "    }\n",
       "\n",
       "    .dataframe thead th {\n",
       "        text-align: right;\n",
       "    }\n",
       "</style>\n",
       "<table border=\"1\" class=\"dataframe\">\n",
       "  <thead>\n",
       "    <tr style=\"text-align: right;\">\n",
       "      <th></th>\n",
       "      <th>text</th>\n",
       "      <th>labels</th>\n",
       "      <th>id</th>\n",
       "    </tr>\n",
       "  </thead>\n",
       "  <tbody>\n",
       "    <tr>\n",
       "      <th>0</th>\n",
       "      <td>My favourite food is anything I didn't have to...</td>\n",
       "      <td>[27]</td>\n",
       "      <td>eebbqej</td>\n",
       "    </tr>\n",
       "    <tr>\n",
       "      <th>1</th>\n",
       "      <td>Now if he does off himself, everyone will thin...</td>\n",
       "      <td>[27]</td>\n",
       "      <td>ed00q6i</td>\n",
       "    </tr>\n",
       "    <tr>\n",
       "      <th>2</th>\n",
       "      <td>WHY THE FUCK IS BAYLESS ISOING</td>\n",
       "      <td>[2]</td>\n",
       "      <td>eezlygj</td>\n",
       "    </tr>\n",
       "    <tr>\n",
       "      <th>3</th>\n",
       "      <td>To make her feel threatened</td>\n",
       "      <td>[14]</td>\n",
       "      <td>ed7ypvh</td>\n",
       "    </tr>\n",
       "    <tr>\n",
       "      <th>4</th>\n",
       "      <td>Dirty Southern Wankers</td>\n",
       "      <td>[3]</td>\n",
       "      <td>ed0bdzj</td>\n",
       "    </tr>\n",
       "  </tbody>\n",
       "</table>\n",
       "</div>"
      ],
      "text/plain": [
       "                                                text labels       id\n",
       "0  My favourite food is anything I didn't have to...   [27]  eebbqej\n",
       "1  Now if he does off himself, everyone will thin...   [27]  ed00q6i\n",
       "2                     WHY THE FUCK IS BAYLESS ISOING    [2]  eezlygj\n",
       "3                        To make her feel threatened   [14]  ed7ypvh\n",
       "4                             Dirty Southern Wankers    [3]  ed0bdzj"
      ]
     },
     "execution_count": 216,
     "metadata": {},
     "output_type": "execute_result"
    }
   ],
   "source": [
    "# combine train/validation/test\n",
    "train_orig = goEmotions['train'].to_pandas()\n",
    "val_orig = goEmotions['validation'].to_pandas()\n",
    "test_orig = goEmotions['test'].to_pandas()\n",
    "\n",
    "combined_orig = pd.concat([train_orig, val_orig, test_orig], ignore_index=True)\n",
    "display(len(combined_orig))\n",
    "combined_orig.head()"
   ]
  },
  {
   "cell_type": "code",
   "execution_count": 228,
   "metadata": {},
   "outputs": [],
   "source": [
    "def show_freq_graph(emotions_list):\n",
    "    # flatten labels\n",
    "    all_labels = [label for labels in emotions_list for label in labels]\n",
    "\n",
    "    # counter for each label\n",
    "    label_counts = Counter(all_labels)\n",
    "    \n",
    "    # order in desc order\n",
    "    sorted_freq = dict(label_counts.most_common())\n",
    "\n",
    "\n",
    "    # Plot the frequencies\n",
    "    plt.figure(figsize=(12, 6))\n",
    "    bars = plt.bar(sorted_freq.keys(), sorted_freq.values(), color='skyblue')\n",
    "    plt.xlabel('Label')\n",
    "    plt.ylabel('Number of examples')\n",
    "    plt.title('ORIGINAL Label Frequency in GoEmotions Dataset (Train + Valid + Test)')\n",
    "    plt.xticks(range(len(sorted_freq)), sorted_freq.keys(), rotation=90)  # Rotate labels for readability\n",
    "\n",
    "    # Add frequency numbers on top of the bars\n",
    "    for bar in bars:\n",
    "        yval = bar.get_height()\n",
    "        plt.text(bar.get_x() + bar.get_width()/2, yval + 0.5, int(yval), ha='center', va='bottom', fontsize=8)\n",
    "\n",
    "    plt.show()"
   ]
  },
  {
   "cell_type": "code",
   "execution_count": 226,
   "metadata": {},
   "outputs": [
    {
     "data": {
      "text/plain": [
       "0           [neutral]\n",
       "1           [neutral]\n",
       "2             [anger]\n",
       "3              [fear]\n",
       "4         [annoyance]\n",
       "             ...     \n",
       "54258     [gratitude]\n",
       "54259      [approval]\n",
       "54260       [neutral]\n",
       "54261    [admiration]\n",
       "54262       [neutral]\n",
       "Name: labels, Length: 54263, dtype: object"
      ]
     },
     "execution_count": 226,
     "metadata": {},
     "output_type": "execute_result"
    }
   ],
   "source": [
    "# change from string labels to ids\n",
    "labels_str = combined_orig[\"labels\"].apply(lambda label_list: [go_id2label[label] for label in label_list])\n",
    "labels_str"
   ]
  },
  {
   "cell_type": "code",
   "execution_count": 229,
   "metadata": {},
   "outputs": [
    {
     "data": {
      "image/png": "[encoded data removed]",
      "text/plain": [
       "<Figure size 1200x600 with 1 Axes>"
      ]
     },
     "metadata": {},
     "output_type": "display_data"
    }
   ],
   "source": [
    "show_freq_graph(labels_str)"
   ]
  },
  {
   "cell_type": "markdown",
   "metadata": {},
   "source": [
    "Although more data has been added, there's still significant class imbalance due to:\n",
    "- Other datasets adding onto the majority label ('neutral')\n",
    "- No/few examples for many minority labels like 'grief' or 'pride'\n",
    "\n",
    "2 ways to deal with class imbalance:\n",
    "1. Data Augmentation with TextAttack\n",
    "2. Class weighting\n",
    "\n",
    "Notes:\n",
    "- When using data augmentation, make sure not to over do it as it can lead to overfit.\n",
    "- When using TextAttack, make sure the augmented examples are of good quality or they can lead to noise or/and can hurt model performance.\n",
    "- Class weighting: Assign higher importance to minority labels during training. Very useful for (very) imbalanced dataset like this."
   ]
  },
  {
   "cell_type": "markdown",
   "metadata": {},
   "source": [
    "# Data Augmentation: TextAttack"
   ]
  },
  {
   "cell_type": "code",
   "execution_count": null,
   "metadata": {},
   "outputs": [],
   "source": []
  }
 ],
 "metadata": {
  "kernelspec": {
   "display_name": ".env",
   "language": "python",
   "name": "python3"
  },
  "language_info": {
   "codemirror_mode": {
    "name": "ipython",
    "version": 3
   },
   "file_extension": ".py",
   "mimetype": "text/x-python",
   "name": "python",
   "nbconvert_exporter": "python",
   "pygments_lexer": "ipython3",
   "version": "3.11.9"
  }
 },
 "nbformat": 4,
 "nbformat_minor": 2
}
