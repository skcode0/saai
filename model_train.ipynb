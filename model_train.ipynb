{
 "cells": [
  {
   "cell_type": "markdown",
   "metadata": {},
   "source": [
    "# Model Training"
   ]
  },
  {
   "cell_type": "code",
   "execution_count": 23,
   "metadata": {},
   "outputs": [],
   "source": [
    "import pandas as pd\n",
    "import numpy as np\n",
    "from datasets import Dataset, DatasetDict, load_dataset, load_from_disk\n",
    "from transformers import (\n",
    "    AutoTokenizer,\n",
    "    AutoConfig,\n",
    "    AutoModelForSequenceClassification,\n",
    "    DataCollatorWithPadding,\n",
    "    TrainingArguments,\n",
    "    Trainer\n",
    ")\n",
    "from peft import PeftModel, PeftConfig, get_peft_model, LoraConfig\n",
    "import evaluate\n",
    "import torch\n"
   ]
  },
  {
   "cell_type": "markdown",
   "metadata": {},
   "source": [
    "## Load base model and tokenizer\n",
    "- distilbert"
   ]
  },
  {
   "cell_type": "code",
   "execution_count": 6,
   "metadata": {},
   "outputs": [
    {
     "data": {
      "application/vnd.jupyter.widget-view+json": {
       "model_id": "ff5d5d1f31104795b2c1001534c0c2bb",
       "version_major": 2,
       "version_minor": 0
      },
      "text/plain": [
       "tokenizer_config.json:   0%|          | 0.00/25.0 [00:00<?, ?B/s]"
      ]
     },
     "metadata": {},
     "output_type": "display_data"
    },
    {
     "name": "stderr",
     "output_type": "stream",
     "text": [
      "c:\\Users\\skpar\\Desktop\\Learning\\ml\\.env\\Lib\\site-packages\\huggingface_hub\\file_download.py:139: UserWarning: `huggingface_hub` cache-system uses symlinks by default to efficiently store duplicated files but your machine does not support them in C:\\Users\\skpar\\.cache\\huggingface\\hub\\models--distilbert--distilroberta-base. Caching files will still work but in a degraded version that might require more space on your disk. This warning can be disabled by setting the `HF_HUB_DISABLE_SYMLINKS_WARNING` environment variable. For more details, see https://huggingface.co/docs/huggingface_hub/how-to-cache#limitations.\n",
      "To support symlinks on Windows, you either need to activate Developer Mode or to run Python as an administrator. In order to activate developer mode, see this article: https://docs.microsoft.com/en-us/windows/apps/get-started/enable-your-device-for-development\n",
      "  warnings.warn(message)\n"
     ]
    },
    {
     "data": {
      "application/vnd.jupyter.widget-view+json": {
       "model_id": "0e8952e5e90241c6be4470f2069269ae",
       "version_major": 2,
       "version_minor": 0
      },
      "text/plain": [
       "config.json:   0%|          | 0.00/480 [00:00<?, ?B/s]"
      ]
     },
     "metadata": {},
     "output_type": "display_data"
    },
    {
     "data": {
      "application/vnd.jupyter.widget-view+json": {
       "model_id": "8e30f3bff10c4d5885a1ab2d4a339aa0",
       "version_major": 2,
       "version_minor": 0
      },
      "text/plain": [
       "vocab.json:   0%|          | 0.00/899k [00:00<?, ?B/s]"
      ]
     },
     "metadata": {},
     "output_type": "display_data"
    },
    {
     "data": {
      "application/vnd.jupyter.widget-view+json": {
       "model_id": "1b67819d462b418bb78ad91664d75f32",
       "version_major": 2,
       "version_minor": 0
      },
      "text/plain": [
       "merges.txt:   0%|          | 0.00/456k [00:00<?, ?B/s]"
      ]
     },
     "metadata": {},
     "output_type": "display_data"
    },
    {
     "data": {
      "application/vnd.jupyter.widget-view+json": {
       "model_id": "d196fe399ba34d12b6dbf93b8e0fe73d",
       "version_major": 2,
       "version_minor": 0
      },
      "text/plain": [
       "tokenizer.json:   0%|          | 0.00/1.36M [00:00<?, ?B/s]"
      ]
     },
     "metadata": {},
     "output_type": "display_data"
    },
    {
     "data": {
      "application/vnd.jupyter.widget-view+json": {
       "model_id": "ecae0dca9a7f44d0a8787193fdf52d77",
       "version_major": 2,
       "version_minor": 0
      },
      "text/plain": [
       "model.safetensors:   0%|          | 0.00/331M [00:00<?, ?B/s]"
      ]
     },
     "metadata": {},
     "output_type": "display_data"
    },
    {
     "name": "stderr",
     "output_type": "stream",
     "text": [
      "Some weights of RobertaForSequenceClassification were not initialized from the model checkpoint at distilbert/distilroberta-base and are newly initialized: ['classifier.dense.bias', 'classifier.dense.weight', 'classifier.out_proj.bias', 'classifier.out_proj.weight']\n",
      "You should probably TRAIN this model on a down-stream task to be able to use it for predictions and inference.\n"
     ]
    }
   ],
   "source": [
    "model_name = \"distilbert/distilroberta-base\"\n",
    "tokenizer = AutoTokenizer.from_pretrained(model_name)\n",
    "model = AutoModelForSequenceClassification.from_pretrained(model_name, num_labels=28) "
   ]
  },
  {
   "cell_type": "markdown",
   "metadata": {},
   "source": [
    "## Dataset\n",
    "\n",
    "Will be training 3 datasets and comparing performances:\n",
    "1. original goEmotions dataset\n",
    "2. goEmotions + other datasets\n",
    "3. goEmotions + other datasets + textattack data augmentation"
   ]
  },
  {
   "cell_type": "code",
   "execution_count": 37,
   "metadata": {},
   "outputs": [],
   "source": [
    "random_seed = 1234"
   ]
  },
  {
   "cell_type": "code",
   "execution_count": null,
   "metadata": {},
   "outputs": [
    {
     "data": {
      "text/plain": [
       "512"
      ]
     },
     "execution_count": 24,
     "metadata": {},
     "output_type": "execute_result"
    }
   ],
   "source": [
    "# check model's max context length\n",
    "tokenizer.model_max_length"
   ]
  },
  {
   "cell_type": "code",
   "execution_count": 54,
   "metadata": {},
   "outputs": [],
   "source": [
    "def tokenize_func(examples):\n",
    "    return tokenizer(examples['text'], padding=\"max_length\", truncation=True)"
   ]
  },
  {
   "cell_type": "markdown",
   "metadata": {},
   "source": [
    "### Load Augmented dataset\n",
    "- goEmotions + other datasets + textattack data augmentation"
   ]
  },
  {
   "cell_type": "code",
   "execution_count": 40,
   "metadata": {},
   "outputs": [
    {
     "data": {
      "text/plain": [
       "DatasetDict({\n",
       "    train: Dataset({\n",
       "        features: ['text', 'labels'],\n",
       "        num_rows: 88944\n",
       "    })\n",
       "    validation: Dataset({\n",
       "        features: ['text', 'labels'],\n",
       "        num_rows: 10426\n",
       "    })\n",
       "    test: Dataset({\n",
       "        features: ['text', 'labels'],\n",
       "        num_rows: 12721\n",
       "    })\n",
       "})"
      ]
     },
     "execution_count": 40,
     "metadata": {},
     "output_type": "execute_result"
    }
   ],
   "source": [
    "augmented_dataset = load_from_disk('./datasets/cleaned_hf/augmented_hf')\n",
    "augmented_dataset"
   ]
  },
  {
   "cell_type": "code",
   "execution_count": null,
   "metadata": {},
   "outputs": [
    {
     "data": {
      "text/plain": [
       "[\"I'm sorry to hear, come see me when you die.\",\n",
       " 'i feel terrified because even if i have the time to write out how i feel about mr',\n",
       " 'I asked at the Bodies Reveled show if they used prisoner bodies.. I got an awkward no.',\n",
       " 'i feel awful for making this all about me and my flawed academia instilled value system but my brain won t shut up about it',\n",
       " 'i feel so repressed when compared to dear a href http eurodancemix']"
      ]
     },
     "execution_count": 41,
     "metadata": {},
     "output_type": "execute_result"
    }
   ],
   "source": [
    "# before shuffle\n",
    "augmented_dataset['train']['text'][:5]"
   ]
  },
  {
   "cell_type": "code",
   "execution_count": 42,
   "metadata": {},
   "outputs": [],
   "source": [
    "# shuffle training set\n",
    "augmented_dataset['train'] = augmented_dataset['train'].shuffle(seed=random_seed)"
   ]
  },
  {
   "cell_type": "code",
   "execution_count": null,
   "metadata": {},
   "outputs": [
    {
     "data": {
      "text/plain": [
       "[\"I gave up trying to be 'normal' years ago. But I get your point though.\",\n",
       " '@blue_north27 http://twitpic.com/4jcjr - Mmm yummy... looks like an invitation to me',\n",
       " 'I feel a connection to this woman',\n",
       " 'My friends are awesome! @JNBlack @koreantomcruise -- and the non Twitter ones here right now too!!',\n",
       " 'People like you is also why no players want to play and stay in Orlando']"
      ]
     },
     "execution_count": 43,
     "metadata": {},
     "output_type": "execute_result"
    }
   ],
   "source": [
    "# after shuffle\n",
    "augmented_dataset['train']['text'][:5]"
   ]
  },
  {
   "cell_type": "markdown",
   "metadata": {},
   "source": [
    "#### Calculate Class Weights"
   ]
  },
  {
   "cell_type": "code",
   "execution_count": 63,
   "metadata": {},
   "outputs": [],
   "source": [
    "from generate_class_weights import generate_class_weights "
   ]
  },
  {
   "cell_type": "code",
   "execution_count": 69,
   "metadata": {},
   "outputs": [
    {
     "data": {
      "text/plain": [
       "{0: 0.7691456243514355,\n",
       " 1: 1.3645066273932254,\n",
       " 2: 0.49946091644204854,\n",
       " 3: 1.2860613071139386,\n",
       " 4: 1.0808341029504691,\n",
       " 5: 1.779591836734694,\n",
       " 6: 1.401840877569033,\n",
       " 7: 1.4498272152311404,\n",
       " 8: 2.988308023115173,\n",
       " 9: 1.549547038327526,\n",
       " 10: 1.5710046629927936,\n",
       " 11: 0.9356616873553545,\n",
       " 12: 6.0391091797935905,\n",
       " 13: 2.286948472693613,\n",
       " 14: 0.8414758751182593,\n",
       " 15: 1.1933025652033917,\n",
       " 16: 25.210884353741495,\n",
       " 17: 0.3419344917730278,\n",
       " 18: 0.4463357353620105,\n",
       " 19: 12.078218359587181,\n",
       " 20: 0.8910438789821679,\n",
       " 21: 19.488168273444348,\n",
       " 22: 1.7916364515349288,\n",
       " 23: 1.1817602040816326,\n",
       " 24: 3.397402597402597,\n",
       " 25: 0.26198527245949926,\n",
       " 26: 0.8437108708025043,\n",
       " 27: 0.15054127427948574}"
      ]
     },
     "execution_count": 69,
     "metadata": {},
     "output_type": "execute_result"
    }
   ],
   "source": [
    "augmented_class_weights = generate_class_weights(augmented_dataset['train']['labels'], multi_class=False, one_hot_encoded=True)\n",
    "augmented_class_weights"
   ]
  },
  {
   "cell_type": "markdown",
   "metadata": {},
   "source": [
    "#### Tokenization"
   ]
  },
  {
   "cell_type": "code",
   "execution_count": 55,
   "metadata": {},
   "outputs": [
    {
     "data": {
      "application/vnd.jupyter.widget-view+json": {
       "model_id": "2356f6033dd845da8cda2ebd19603fcb",
       "version_major": 2,
       "version_minor": 0
      },
      "text/plain": [
       "Map:   0%|          | 0/88944 [00:00<?, ? examples/s]"
      ]
     },
     "metadata": {},
     "output_type": "display_data"
    },
    {
     "data": {
      "application/vnd.jupyter.widget-view+json": {
       "model_id": "cd95d93da51b43b6af78fa67dbae0bc4",
       "version_major": 2,
       "version_minor": 0
      },
      "text/plain": [
       "Map:   0%|          | 0/10426 [00:00<?, ? examples/s]"
      ]
     },
     "metadata": {},
     "output_type": "display_data"
    },
    {
     "data": {
      "application/vnd.jupyter.widget-view+json": {
       "model_id": "7670f72395e24cdba044ddc21b0e9dbe",
       "version_major": 2,
       "version_minor": 0
      },
      "text/plain": [
       "Map:   0%|          | 0/12721 [00:00<?, ? examples/s]"
      ]
     },
     "metadata": {},
     "output_type": "display_data"
    },
    {
     "data": {
      "text/plain": [
       "DatasetDict({\n",
       "    train: Dataset({\n",
       "        features: ['text', 'labels', 'input_ids', 'attention_mask'],\n",
       "        num_rows: 88944\n",
       "    })\n",
       "    validation: Dataset({\n",
       "        features: ['text', 'labels', 'input_ids', 'attention_mask'],\n",
       "        num_rows: 10426\n",
       "    })\n",
       "    test: Dataset({\n",
       "        features: ['text', 'labels', 'input_ids', 'attention_mask'],\n",
       "        num_rows: 12721\n",
       "    })\n",
       "})"
      ]
     },
     "execution_count": 55,
     "metadata": {},
     "output_type": "execute_result"
    }
   ],
   "source": [
    "tokenized_augmented = augmented_dataset.map(tokenize_func, batched=True)\n",
    "tokenized_augmented"
   ]
  },
  {
   "cell_type": "markdown",
   "metadata": {},
   "source": [
    "### Load merged dataset\n",
    "- goEmotions + other datasets"
   ]
  },
  {
   "cell_type": "code",
   "execution_count": 45,
   "metadata": {},
   "outputs": [
    {
     "data": {
      "text/plain": [
       "DatasetDict({\n",
       "    train: Dataset({\n",
       "        features: ['text', 'labels'],\n",
       "        num_rows: 83016\n",
       "    })\n",
       "    validation: Dataset({\n",
       "        features: ['text', 'labels'],\n",
       "        num_rows: 10426\n",
       "    })\n",
       "    test: Dataset({\n",
       "        features: ['text', 'labels'],\n",
       "        num_rows: 12721\n",
       "    })\n",
       "})"
      ]
     },
     "execution_count": 45,
     "metadata": {},
     "output_type": "execute_result"
    }
   ],
   "source": [
    "merged_dataset = load_from_disk('./datasets/cleaned_hf/merged_hf')\n",
    "merged_dataset"
   ]
  },
  {
   "cell_type": "code",
   "execution_count": 46,
   "metadata": {},
   "outputs": [
    {
     "data": {
      "text/plain": [
       "[\"My favourite food is anything I didn't have to cook myself.\",\n",
       " 'Now if he does off himself, everyone will think hes having a laugh screwing with people instead of actually dead',\n",
       " 'WHY THE FUCK IS BAYLESS ISOING',\n",
       " 'To make her feel threatened',\n",
       " 'Dirty Southern Wankers']"
      ]
     },
     "execution_count": 46,
     "metadata": {},
     "output_type": "execute_result"
    }
   ],
   "source": [
    "# before shuffle\n",
    "merged_dataset['train']['text'][:5]"
   ]
  },
  {
   "cell_type": "code",
   "execution_count": 47,
   "metadata": {},
   "outputs": [],
   "source": [
    "# shuffle training set\n",
    "merged_dataset['train'] = merged_dataset['train'].shuffle(seed=random_seed)"
   ]
  },
  {
   "cell_type": "code",
   "execution_count": 48,
   "metadata": {},
   "outputs": [
    {
     "data": {
      "text/plain": [
       "[\"[NAME] is way more straight forward than [NAME], she doesn't have tons of mixups and stances etc. Her strings strong but simple with limited options \",\n",
       " 'She is married to a banker and I posted about her views that any trump fan would love',\n",
       " 'We got killed by the 7-11 guy yesterday so [NAME] had to bring out the valet guy.',\n",
       " '@730Fam yeah you are right! but my mom can cook like she is straight from the island! make sure you invite me to your fam restaurant',\n",
       " 'Thank you. [NAME] killed it, earned his spot. Love my packers but sometimes people in this sub are ridiculous ']"
      ]
     },
     "execution_count": 48,
     "metadata": {},
     "output_type": "execute_result"
    }
   ],
   "source": [
    "# after shuffle\n",
    "merged_dataset['train']['text'][:5]"
   ]
  },
  {
   "cell_type": "markdown",
   "metadata": {},
   "source": [
    "#### Calculate class weights"
   ]
  },
  {
   "cell_type": "code",
   "execution_count": 70,
   "metadata": {},
   "outputs": [
    {
     "data": {
      "text/plain": [
       "{0: 0.7178830854375648,\n",
       " 1: 1.2735640648011781,\n",
       " 2: 0.4661725067385445,\n",
       " 3: 1.200347021399653,\n",
       " 4: 1.0087979390463229,\n",
       " 5: 2.7275594690498095,\n",
       " 6: 2.167293233082707,\n",
       " 7: 1.3531981482688922,\n",
       " 8: 4.625362157343437,\n",
       " 9: 2.3363728470111447,\n",
       " 10: 1.466299279355659,\n",
       " 11: 0.8733010730065222,\n",
       " 12: 9.785007072135786,\n",
       " 13: 3.4757996985429576,\n",
       " 14: 0.7853926206244087,\n",
       " 15: 1.1137705269936675,\n",
       " 16: 38.50463821892394,\n",
       " 17: 0.31914500999538675,\n",
       " 18: 0.41658804873642585,\n",
       " 19: 18.078397212543553,\n",
       " 20: 0.8316569825686235,\n",
       " 21: 26.71042471042471,\n",
       " 22: 2.671042471042471,\n",
       " 23: 2.157829070492826,\n",
       " 24: 5.4401048492791615,\n",
       " 25: 0.24452430044182621,\n",
       " 26: 0.787478656801366,\n",
       " 27: 0.14050789739145741}"
      ]
     },
     "execution_count": 70,
     "metadata": {},
     "output_type": "execute_result"
    }
   ],
   "source": [
    "merged_class_weights = generate_class_weights(merged_dataset['train']['labels'], multi_class=False, one_hot_encoded=True)\n",
    "merged_class_weights"
   ]
  },
  {
   "cell_type": "markdown",
   "metadata": {},
   "source": [
    "#### Toeknization"
   ]
  },
  {
   "cell_type": "code",
   "execution_count": 57,
   "metadata": {},
   "outputs": [
    {
     "data": {
      "application/vnd.jupyter.widget-view+json": {
       "model_id": "89eea05e7f884d948470abee5decfb6e",
       "version_major": 2,
       "version_minor": 0
      },
      "text/plain": [
       "Map:   0%|          | 0/83016 [00:00<?, ? examples/s]"
      ]
     },
     "metadata": {},
     "output_type": "display_data"
    },
    {
     "data": {
      "application/vnd.jupyter.widget-view+json": {
       "model_id": "37780dc79c434778ab188e7d2e43a43e",
       "version_major": 2,
       "version_minor": 0
      },
      "text/plain": [
       "Map:   0%|          | 0/10426 [00:00<?, ? examples/s]"
      ]
     },
     "metadata": {},
     "output_type": "display_data"
    },
    {
     "data": {
      "application/vnd.jupyter.widget-view+json": {
       "model_id": "491fb39c4cb6433ab893c52700c0ae6c",
       "version_major": 2,
       "version_minor": 0
      },
      "text/plain": [
       "Map:   0%|          | 0/12721 [00:00<?, ? examples/s]"
      ]
     },
     "metadata": {},
     "output_type": "display_data"
    },
    {
     "data": {
      "text/plain": [
       "DatasetDict({\n",
       "    train: Dataset({\n",
       "        features: ['text', 'labels', 'input_ids', 'attention_mask'],\n",
       "        num_rows: 83016\n",
       "    })\n",
       "    validation: Dataset({\n",
       "        features: ['text', 'labels', 'input_ids', 'attention_mask'],\n",
       "        num_rows: 10426\n",
       "    })\n",
       "    test: Dataset({\n",
       "        features: ['text', 'labels', 'input_ids', 'attention_mask'],\n",
       "        num_rows: 12721\n",
       "    })\n",
       "})"
      ]
     },
     "execution_count": 57,
     "metadata": {},
     "output_type": "execute_result"
    }
   ],
   "source": [
    "tokenized_merged = merged_dataset.map(tokenize_func, batched=True)\n",
    "tokenized_merged"
   ]
  },
  {
   "cell_type": "markdown",
   "metadata": {},
   "source": [
    "### Load goEmotions dataset\n",
    "- goEmotions"
   ]
  },
  {
   "cell_type": "code",
   "execution_count": 50,
   "metadata": {},
   "outputs": [
    {
     "data": {
      "text/plain": [
       "DatasetDict({\n",
       "    train: Dataset({\n",
       "        features: ['text', 'labels'],\n",
       "        num_rows: 43410\n",
       "    })\n",
       "    validation: Dataset({\n",
       "        features: ['text', 'labels'],\n",
       "        num_rows: 5426\n",
       "    })\n",
       "    test: Dataset({\n",
       "        features: ['text', 'labels'],\n",
       "        num_rows: 5427\n",
       "    })\n",
       "})"
      ]
     },
     "execution_count": 50,
     "metadata": {},
     "output_type": "execute_result"
    }
   ],
   "source": [
    "go_dataset = load_from_disk('./datasets/cleaned_hf/goEmotions_cleaned')\n",
    "go_dataset"
   ]
  },
  {
   "cell_type": "code",
   "execution_count": 51,
   "metadata": {},
   "outputs": [
    {
     "data": {
      "text/plain": [
       "[\"My favourite food is anything I didn't have to cook myself.\",\n",
       " 'Now if he does off himself, everyone will think hes having a laugh screwing with people instead of actually dead',\n",
       " 'WHY THE FUCK IS BAYLESS ISOING',\n",
       " 'To make her feel threatened',\n",
       " 'Dirty Southern Wankers']"
      ]
     },
     "execution_count": 51,
     "metadata": {},
     "output_type": "execute_result"
    }
   ],
   "source": [
    "# before shuffle\n",
    "go_dataset['train']['text'][:5]"
   ]
  },
  {
   "cell_type": "code",
   "execution_count": 52,
   "metadata": {},
   "outputs": [],
   "source": [
    "# shuffle training set\n",
    "go_dataset['train'] = go_dataset['train'].shuffle(seed=random_seed)"
   ]
  },
  {
   "cell_type": "code",
   "execution_count": 53,
   "metadata": {},
   "outputs": [
    {
     "data": {
      "text/plain": [
       "['The hardship of having the future meet the present. (or something)',\n",
       " 'That or spot up shooting. I like the confidence though, he’s not scared to expand his game.',\n",
       " 'For serial rapists, its not about the physical pleasure. Its all head games. Damn freaks',\n",
       " 'No room. Get lost. I cc u!',\n",
       " \"I did that my first day of middle school (got off at high school instead) but that's probably because I'm an idiot\"]"
      ]
     },
     "execution_count": 53,
     "metadata": {},
     "output_type": "execute_result"
    }
   ],
   "source": [
    "# after shuffle\n",
    "go_dataset['train']['text'][:5]"
   ]
  },
  {
   "cell_type": "markdown",
   "metadata": {},
   "source": [
    "#### Calculate class weights"
   ]
  },
  {
   "cell_type": "code",
   "execution_count": 71,
   "metadata": {},
   "outputs": [
    {
     "data": {
      "text/plain": [
       "{0: 0.7178830854375648,\n",
       " 1: 1.2735640648011781,\n",
       " 2: 0.4661725067385445,\n",
       " 3: 1.200347021399653,\n",
       " 4: 1.0087979390463229,\n",
       " 5: 2.7275594690498095,\n",
       " 6: 2.167293233082707,\n",
       " 7: 1.3531981482688922,\n",
       " 8: 4.625362157343437,\n",
       " 9: 2.3363728470111447,\n",
       " 10: 1.466299279355659,\n",
       " 11: 0.8733010730065222,\n",
       " 12: 9.785007072135786,\n",
       " 13: 3.4757996985429576,\n",
       " 14: 0.7853926206244087,\n",
       " 15: 1.1137705269936675,\n",
       " 16: 38.50463821892394,\n",
       " 17: 0.31914500999538675,\n",
       " 18: 0.41658804873642585,\n",
       " 19: 18.078397212543553,\n",
       " 20: 0.8316569825686235,\n",
       " 21: 26.71042471042471,\n",
       " 22: 2.671042471042471,\n",
       " 23: 2.157829070492826,\n",
       " 24: 5.4401048492791615,\n",
       " 25: 0.24452430044182621,\n",
       " 26: 0.787478656801366,\n",
       " 27: 0.14050789739145741}"
      ]
     },
     "execution_count": 71,
     "metadata": {},
     "output_type": "execute_result"
    }
   ],
   "source": [
    "go_class_weights = generate_class_weights(merged_dataset['train']['labels'], multi_class=False, one_hot_encoded=True)\n",
    "go_class_weights"
   ]
  },
  {
   "cell_type": "markdown",
   "metadata": {},
   "source": [
    "#### Tokenization"
   ]
  },
  {
   "cell_type": "code",
   "execution_count": 58,
   "metadata": {},
   "outputs": [
    {
     "data": {
      "application/vnd.jupyter.widget-view+json": {
       "model_id": "2f1ba84b7123488a9a6b7f8793d34cf5",
       "version_major": 2,
       "version_minor": 0
      },
      "text/plain": [
       "Map:   0%|          | 0/43410 [00:00<?, ? examples/s]"
      ]
     },
     "metadata": {},
     "output_type": "display_data"
    },
    {
     "data": {
      "application/vnd.jupyter.widget-view+json": {
       "model_id": "ca3573135bbb4e67b8684bcfd37a3085",
       "version_major": 2,
       "version_minor": 0
      },
      "text/plain": [
       "Map:   0%|          | 0/5426 [00:00<?, ? examples/s]"
      ]
     },
     "metadata": {},
     "output_type": "display_data"
    },
    {
     "data": {
      "application/vnd.jupyter.widget-view+json": {
       "model_id": "ca23c97852fa488ca7059e079da7ed28",
       "version_major": 2,
       "version_minor": 0
      },
      "text/plain": [
       "Map:   0%|          | 0/5427 [00:00<?, ? examples/s]"
      ]
     },
     "metadata": {},
     "output_type": "display_data"
    },
    {
     "data": {
      "text/plain": [
       "DatasetDict({\n",
       "    train: Dataset({\n",
       "        features: ['text', 'labels', 'input_ids', 'attention_mask'],\n",
       "        num_rows: 43410\n",
       "    })\n",
       "    validation: Dataset({\n",
       "        features: ['text', 'labels', 'input_ids', 'attention_mask'],\n",
       "        num_rows: 5426\n",
       "    })\n",
       "    test: Dataset({\n",
       "        features: ['text', 'labels', 'input_ids', 'attention_mask'],\n",
       "        num_rows: 5427\n",
       "    })\n",
       "})"
      ]
     },
     "execution_count": 58,
     "metadata": {},
     "output_type": "execute_result"
    }
   ],
   "source": [
    "tokenized_go = go_dataset.map(tokenize_func, batched=True)\n",
    "tokenized_go"
   ]
  },
  {
   "cell_type": "markdown",
   "metadata": {},
   "source": [
    "## Training preperation"
   ]
  }
 ],
 "metadata": {
  "kernelspec": {
   "display_name": ".env",
   "language": "python",
   "name": "python3"
  },
  "language_info": {
   "codemirror_mode": {
    "name": "ipython",
    "version": 3
   },
   "file_extension": ".py",
   "mimetype": "text/x-python",
   "name": "python",
   "nbconvert_exporter": "python",
   "pygments_lexer": "ipython3",
   "version": "3.11.9"
  }
 },
 "nbformat": 4,
 "nbformat_minor": 2
}
