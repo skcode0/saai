{
 "cells": [
  {
   "cell_type": "markdown",
   "metadata": {},
   "source": [
    "# Test fine-tuned model (inference)"
   ]
  },
  {
   "cell_type": "code",
   "execution_count": 1,
   "metadata": {},
   "outputs": [],
   "source": [
    "from transformers import AutoTokenizer, AutoModelForSequenceClassification, pipeline"
   ]
  },
  {
   "cell_type": "code",
   "execution_count": 7,
   "metadata": {},
   "outputs": [],
   "source": [
    "model_path = './models/merged'\n",
    "\n",
    "# Load the tokenizer and model\n",
    "tokenizer = AutoTokenizer.from_pretrained(model_path)\n",
    "model = AutoModelForSequenceClassification.from_pretrained(model_path)"
   ]
  },
  {
   "cell_type": "code",
   "execution_count": 8,
   "metadata": {},
   "outputs": [
    {
     "name": "stderr",
     "output_type": "stream",
     "text": [
      "Device set to use cuda:0\n"
     ]
    }
   ],
   "source": [
    "sentiment_analyzer = pipeline(\"sentiment-analysis\", model=model, tokenizer=tokenizer, return_all_scores=True)"
   ]
  },
  {
   "cell_type": "code",
   "execution_count": 9,
   "metadata": {},
   "outputs": [
    {
     "data": {
      "text/plain": [
       "[{'label': 'admiration', 'score': 0.0005212521064095199},\n",
       " {'label': 'amusement', 'score': 0.00016229631728492677},\n",
       " {'label': 'anger', 'score': 0.0022620202507823706},\n",
       " {'label': 'annoyance', 'score': 0.006109688431024551},\n",
       " {'label': 'approval', 'score': 0.005122280679643154},\n",
       " {'label': 'caring', 'score': 0.003974538296461105},\n",
       " {'label': 'confusion', 'score': 0.001299366820603609},\n",
       " {'label': 'curiosity', 'score': 0.00019308480841573328},\n",
       " {'label': 'desire', 'score': 0.0018033913802355528},\n",
       " {'label': 'disappointment', 'score': 0.11924711614847183},\n",
       " {'label': 'disapproval', 'score': 0.06857211887836456},\n",
       " {'label': 'disgust', 'score': 0.003290706081315875},\n",
       " {'label': 'embarrassment', 'score': 0.0006609109113924205},\n",
       " {'label': 'excitement', 'score': 0.0001551154418848455},\n",
       " {'label': 'fear', 'score': 0.0016865057405084372},\n",
       " {'label': 'gratitude', 'score': 0.0006916572456248105},\n",
       " {'label': 'grief', 'score': 0.006193274632096291},\n",
       " {'label': 'joy', 'score': 0.0022023660130798817},\n",
       " {'label': 'love', 'score': 0.005958967376500368},\n",
       " {'label': 'nervousness', 'score': 0.0014980633277446032},\n",
       " {'label': 'optimism', 'score': 0.005767203867435455},\n",
       " {'label': 'pride', 'score': 0.00027819190290756524},\n",
       " {'label': 'realization', 'score': 0.0033818299416452646},\n",
       " {'label': 'relief', 'score': 0.019339803606271744},\n",
       " {'label': 'remorse', 'score': 0.0019619609229266644},\n",
       " {'label': 'sadness', 'score': 0.6324979662895203},\n",
       " {'label': 'surprise', 'score': 0.006533174775540829},\n",
       " {'label': 'neutral', 'score': 0.1343018114566803}]"
      ]
     },
     "execution_count": 9,
     "metadata": {},
     "output_type": "execute_result"
    }
   ],
   "source": [
    "example = \"I am not having a great day.\"\n",
    "result = sentiment_analyzer(example)[0]\n",
    "result"
   ]
  },
  {
   "cell_type": "code",
   "execution_count": 10,
   "metadata": {},
   "outputs": [
    {
     "data": {
      "text/plain": [
       "[{'emotion': 'Admiration', 'probability': 0.0005212521064095199},\n",
       " {'emotion': 'Amusement', 'probability': 0.00016229631728492677},\n",
       " {'emotion': 'Anger', 'probability': 0.0022620202507823706},\n",
       " {'emotion': 'Annoyance', 'probability': 0.006109688431024551},\n",
       " {'emotion': 'Approval', 'probability': 0.005122280679643154},\n",
       " {'emotion': 'Caring', 'probability': 0.003974538296461105},\n",
       " {'emotion': 'Confusion', 'probability': 0.001299366820603609},\n",
       " {'emotion': 'Curiosity', 'probability': 0.00019308480841573328},\n",
       " {'emotion': 'Desire', 'probability': 0.0018033913802355528},\n",
       " {'emotion': 'Disappointment', 'probability': 0.11924711614847183},\n",
       " {'emotion': 'Disapproval', 'probability': 0.06857211887836456},\n",
       " {'emotion': 'Disgust', 'probability': 0.003290706081315875},\n",
       " {'emotion': 'Embarrassment', 'probability': 0.0006609109113924205},\n",
       " {'emotion': 'Excitement', 'probability': 0.0001551154418848455},\n",
       " {'emotion': 'Fear', 'probability': 0.0016865057405084372},\n",
       " {'emotion': 'Gratitude', 'probability': 0.0006916572456248105},\n",
       " {'emotion': 'Grief', 'probability': 0.006193274632096291},\n",
       " {'emotion': 'Joy', 'probability': 0.0022023660130798817},\n",
       " {'emotion': 'Love', 'probability': 0.005958967376500368},\n",
       " {'emotion': 'Nervousness', 'probability': 0.0014980633277446032},\n",
       " {'emotion': 'Optimism', 'probability': 0.005767203867435455},\n",
       " {'emotion': 'Pride', 'probability': 0.00027819190290756524},\n",
       " {'emotion': 'Realization', 'probability': 0.0033818299416452646},\n",
       " {'emotion': 'Relief', 'probability': 0.019339803606271744},\n",
       " {'emotion': 'Remorse', 'probability': 0.0019619609229266644},\n",
       " {'emotion': 'Sadness', 'probability': 0.6324979662895203},\n",
       " {'emotion': 'Surprise', 'probability': 0.006533174775540829},\n",
       " {'emotion': 'Neutral', 'probability': 0.1343018114566803}]"
      ]
     },
     "execution_count": 10,
     "metadata": {},
     "output_type": "execute_result"
    }
   ],
   "source": [
    "# change key names to emotion and probability\n",
    "cleaned_output = [{'emotion': entry['label'].capitalize(), 'probability': entry['score']} for entry in result]\n",
    "\n",
    "cleaned_output"
   ]
  },
  {
   "cell_type": "code",
   "execution_count": null,
   "metadata": {},
   "outputs": [],
   "source": []
  }
 ],
 "metadata": {
  "kernelspec": {
   "display_name": ".env",
   "language": "python",
   "name": "python3"
  },
  "language_info": {
   "codemirror_mode": {
    "name": "ipython",
    "version": 3
   },
   "file_extension": ".py",
   "mimetype": "text/x-python",
   "name": "python",
   "nbconvert_exporter": "python",
   "pygments_lexer": "ipython3",
   "version": "3.11.9"
  }
 },
 "nbformat": 4,
 "nbformat_minor": 2
}
