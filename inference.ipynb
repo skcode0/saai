{
 "cells": [
  {
   "cell_type": "markdown",
   "metadata": {},
   "source": [
    "# Test fine-tuned model (inference)"
   ]
  },
  {
   "cell_type": "code",
   "execution_count": 1,
   "metadata": {},
   "outputs": [],
   "source": [
    "from transformers import AutoTokenizer, AutoModelForSequenceClassification, pipeline"
   ]
  },
  {
   "cell_type": "code",
   "execution_count": 11,
   "metadata": {},
   "outputs": [],
   "source": [
    "model_path = './models/augmented'\n",
    "\n",
    "# Load the tokenizer and model\n",
    "tokenizer = AutoTokenizer.from_pretrained(model_path)\n",
    "model = AutoModelForSequenceClassification.from_pretrained(model_path)"
   ]
  },
  {
   "cell_type": "code",
   "execution_count": 12,
   "metadata": {},
   "outputs": [
    {
     "name": "stderr",
     "output_type": "stream",
     "text": [
      "Device set to use cuda:0\n"
     ]
    }
   ],
   "source": [
    "sentiment_analyzer = pipeline(\"sentiment-analysis\", model=model, tokenizer=tokenizer, return_all_scores=True)"
   ]
  },
  {
   "cell_type": "code",
   "execution_count": 13,
   "metadata": {},
   "outputs": [
    {
     "data": {
      "text/plain": [
       "[{'label': 'admiration', 'score': 0.00024384398420806974},\n",
       " {'label': 'amusement', 'score': 0.00013453670544549823},\n",
       " {'label': 'anger', 'score': 0.0021040625870227814},\n",
       " {'label': 'annoyance', 'score': 0.002320352476090193},\n",
       " {'label': 'approval', 'score': 0.0007689016056247056},\n",
       " {'label': 'caring', 'score': 0.00015958504809532315},\n",
       " {'label': 'confusion', 'score': 0.0006899847066961229},\n",
       " {'label': 'curiosity', 'score': 0.0003991232952103019},\n",
       " {'label': 'desire', 'score': 0.0002156658738385886},\n",
       " {'label': 'disappointment', 'score': 0.03699616715312004},\n",
       " {'label': 'disapproval', 'score': 0.0071547264233231544},\n",
       " {'label': 'disgust', 'score': 0.0017346894601359963},\n",
       " {'label': 'embarrassment', 'score': 0.00033814235939644277},\n",
       " {'label': 'excitement', 'score': 0.0001113239413825795},\n",
       " {'label': 'fear', 'score': 0.0004613491764757782},\n",
       " {'label': 'gratitude', 'score': 6.545115320477635e-05},\n",
       " {'label': 'grief', 'score': 0.0018765239510685205},\n",
       " {'label': 'joy', 'score': 0.00025576783809810877},\n",
       " {'label': 'love', 'score': 0.01052839681506157},\n",
       " {'label': 'nervousness', 'score': 0.0003321365802548826},\n",
       " {'label': 'optimism', 'score': 0.0004404171195346862},\n",
       " {'label': 'pride', 'score': 4.149836240685545e-05},\n",
       " {'label': 'realization', 'score': 0.0008027793955989182},\n",
       " {'label': 'relief', 'score': 0.006528620142489672},\n",
       " {'label': 'remorse', 'score': 0.00041957307257689536},\n",
       " {'label': 'sadness', 'score': 0.7929605841636658},\n",
       " {'label': 'surprise', 'score': 0.020943408831954002},\n",
       " {'label': 'neutral', 'score': 0.09145487844944}]"
      ]
     },
     "execution_count": 13,
     "metadata": {},
     "output_type": "execute_result"
    }
   ],
   "source": [
    "example = \"I am not having a great day.\"\n",
    "result = sentiment_analyzer(example)[0]\n",
    "result"
   ]
  },
  {
   "cell_type": "code",
   "execution_count": 14,
   "metadata": {},
   "outputs": [
    {
     "data": {
      "text/plain": [
       "[{'emotion': 'Admiration', 'probability': 0.00024384398420806974},\n",
       " {'emotion': 'Amusement', 'probability': 0.00013453670544549823},\n",
       " {'emotion': 'Anger', 'probability': 0.0021040625870227814},\n",
       " {'emotion': 'Annoyance', 'probability': 0.002320352476090193},\n",
       " {'emotion': 'Approval', 'probability': 0.0007689016056247056},\n",
       " {'emotion': 'Caring', 'probability': 0.00015958504809532315},\n",
       " {'emotion': 'Confusion', 'probability': 0.0006899847066961229},\n",
       " {'emotion': 'Curiosity', 'probability': 0.0003991232952103019},\n",
       " {'emotion': 'Desire', 'probability': 0.0002156658738385886},\n",
       " {'emotion': 'Disappointment', 'probability': 0.03699616715312004},\n",
       " {'emotion': 'Disapproval', 'probability': 0.0071547264233231544},\n",
       " {'emotion': 'Disgust', 'probability': 0.0017346894601359963},\n",
       " {'emotion': 'Embarrassment', 'probability': 0.00033814235939644277},\n",
       " {'emotion': 'Excitement', 'probability': 0.0001113239413825795},\n",
       " {'emotion': 'Fear', 'probability': 0.0004613491764757782},\n",
       " {'emotion': 'Gratitude', 'probability': 6.545115320477635e-05},\n",
       " {'emotion': 'Grief', 'probability': 0.0018765239510685205},\n",
       " {'emotion': 'Joy', 'probability': 0.00025576783809810877},\n",
       " {'emotion': 'Love', 'probability': 0.01052839681506157},\n",
       " {'emotion': 'Nervousness', 'probability': 0.0003321365802548826},\n",
       " {'emotion': 'Optimism', 'probability': 0.0004404171195346862},\n",
       " {'emotion': 'Pride', 'probability': 4.149836240685545e-05},\n",
       " {'emotion': 'Realization', 'probability': 0.0008027793955989182},\n",
       " {'emotion': 'Relief', 'probability': 0.006528620142489672},\n",
       " {'emotion': 'Remorse', 'probability': 0.00041957307257689536},\n",
       " {'emotion': 'Sadness', 'probability': 0.7929605841636658},\n",
       " {'emotion': 'Surprise', 'probability': 0.020943408831954002},\n",
       " {'emotion': 'Neutral', 'probability': 0.09145487844944}]"
      ]
     },
     "execution_count": 14,
     "metadata": {},
     "output_type": "execute_result"
    }
   ],
   "source": [
    "# change key names to emotion and probability\n",
    "cleaned_output = [{'emotion': entry['label'].capitalize(), 'probability': entry['score']} for entry in result]\n",
    "\n",
    "cleaned_output"
   ]
  }
 ],
 "metadata": {
  "kernelspec": {
   "display_name": ".env",
   "language": "python",
   "name": "python3"
  },
  "language_info": {
   "codemirror_mode": {
    "name": "ipython",
    "version": 3
   },
   "file_extension": ".py",
   "mimetype": "text/x-python",
   "name": "python",
   "nbconvert_exporter": "python",
   "pygments_lexer": "ipython3",
   "version": "3.11.9"
  }
 },
 "nbformat": 4,
 "nbformat_minor": 2
}
